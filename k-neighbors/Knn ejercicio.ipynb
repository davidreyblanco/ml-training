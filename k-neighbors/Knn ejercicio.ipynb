{
 "cells": [
  {
   "cell_type": "markdown",
   "metadata": {},
   "source": [
    "<img src=\"https://thevalley.es/wp-content/uploads/2016/11/thevalley-logo-negro.png\" width=\"400\"></img>"
   ]
  },
  {
   "cell_type": "markdown",
   "metadata": {},
   "source": [
    "\n",
    "# Ejercicio avanzado sobre modelos de k-vecinos\n",
    "\n",
    "Notebook por \n",
    "[David Rey Blanco](https://www.linkedin.com/in/davidreyblanco).\n",
    "\n",
    "*Recursos*: Los códigos de esta sesión y recursos se pueden encontra en el [repositorio](https://github.com/davidreyblanco/ml-training) \n",
    "<br/>\n",
    "<hr/>"
   ]
  },
  {
   "cell_type": "code",
   "execution_count": 3,
   "metadata": {},
   "outputs": [],
   "source": [
    "# Importamos scikit-learn metrics module for accuracy calculation\n",
    "from sklearn import metrics\n",
    "# Importamos  train_test_split function\n",
    "from sklearn.model_selection import train_test_split\n",
    "# Tranformación de variables\n",
    "from sklearn import preprocessing\n",
    "import pandas as pd\n",
    "import numpy as np\n",
    "# Ignoramos los warning que no quedan muy bien\n",
    "import warnings\n",
    "warnings.filterwarnings('ignore')"
   ]
  },
  {
   "cell_type": "markdown",
   "metadata": {},
   "source": [
    "# Carga de datos y descriptivos\n",
    "\n",
    "El dataset que usaremos para el ejercicio corresponde a pisos para varias zonas de Madrid (nota: se ha generado en base a un modelo de valoración creado con información de portales inmobiliarios), los campos principales son:\n",
    "\n",
    "* CODE codigo único del anuncio\n",
    "* PRICE precio en euros\n",
    "* AREA Superficie construida\n",
    "* ROOMNUMBER Número de estancias (huecos)\n",
    "* BATHNUMBER Número de baños\n",
    "* STUDIO - Variable binaria  1 - Es un estudio 0 - No es un estudio\n",
    "* ISPENTHHOUSE - Variable binaria  1 - Es un ático 0 - No es un ático\n",
    "* DUPLEX - Variable binaria  1 - Es un dúplex 0 - No es un dúplex\n",
    "* SWIMMINGPOOL - Variable binaria  1 - Tiene piscina - 0 No tiene piscina\n",
    "* ELEVATOR - Variable binaria  1 - Tiene ascensor - 0 No tiene ascensor\n",
    "* X - Coordenada geográfica X de la localización (longitud en EPGS:25830)\n",
    "* Y - Coordenada geográfica X de la localización (latitud en EPGS:25830)\n",
    "\n",
    "**Nota**: la proyección de las coordenadas es  la EPGS:25830 https://spatialreference.org/ref/epsg/etrs89-utm-zone-30n/ una unidad en esta medida representa un metro"
   ]
  },
  {
   "cell_type": "markdown",
   "metadata": {},
   "source": [
    "## Descarga de datos y descriptivos básicos\n",
    "\n",
    "Descargamos los datos desde el repositorio y extraemos algunos descriptivos"
   ]
  },
  {
   "cell_type": "code",
   "execution_count": 2,
   "metadata": {},
   "outputs": [
    {
     "data": {
      "text/html": [
       "<div>\n",
       "<style scoped>\n",
       "    .dataframe tbody tr th:only-of-type {\n",
       "        vertical-align: middle;\n",
       "    }\n",
       "\n",
       "    .dataframe tbody tr th {\n",
       "        vertical-align: top;\n",
       "    }\n",
       "\n",
       "    .dataframe thead th {\n",
       "        text-align: right;\n",
       "    }\n",
       "</style>\n",
       "<table border=\"1\" class=\"dataframe\">\n",
       "  <thead>\n",
       "    <tr style=\"text-align: right;\">\n",
       "      <th></th>\n",
       "      <th>CODE</th>\n",
       "      <th>PRICE</th>\n",
       "      <th>AREA</th>\n",
       "      <th>ROOMNUMBER</th>\n",
       "      <th>BATHNUMBER</th>\n",
       "      <th>STUDIO</th>\n",
       "      <th>ISPENTHOUSE</th>\n",
       "      <th>DUPLEX</th>\n",
       "      <th>SWIMMINGPOOL</th>\n",
       "      <th>ELEVATOR</th>\n",
       "      <th>X</th>\n",
       "      <th>Y</th>\n",
       "    </tr>\n",
       "  </thead>\n",
       "  <tbody>\n",
       "    <tr>\n",
       "      <th>count</th>\n",
       "      <td>2.733000e+03</td>\n",
       "      <td>2.733000e+03</td>\n",
       "      <td>2733.000000</td>\n",
       "      <td>2733.000000</td>\n",
       "      <td>2733.000000</td>\n",
       "      <td>2733.000000</td>\n",
       "      <td>2733.000000</td>\n",
       "      <td>2733.000000</td>\n",
       "      <td>2733.000000</td>\n",
       "      <td>2733.000000</td>\n",
       "      <td>2733.000000</td>\n",
       "      <td>2.733000e+03</td>\n",
       "    </tr>\n",
       "    <tr>\n",
       "      <th>mean</th>\n",
       "      <td>7.033958e+18</td>\n",
       "      <td>8.102975e+05</td>\n",
       "      <td>146.481888</td>\n",
       "      <td>2.935602</td>\n",
       "      <td>2.079034</td>\n",
       "      <td>0.019027</td>\n",
       "      <td>0.071716</td>\n",
       "      <td>0.027442</td>\n",
       "      <td>0.108306</td>\n",
       "      <td>0.903037</td>\n",
       "      <td>442558.737161</td>\n",
       "      <td>4.477613e+06</td>\n",
       "    </tr>\n",
       "    <tr>\n",
       "      <th>std</th>\n",
       "      <td>2.932817e+18</td>\n",
       "      <td>8.343778e+05</td>\n",
       "      <td>110.170071</td>\n",
       "      <td>1.478329</td>\n",
       "      <td>1.129423</td>\n",
       "      <td>0.136644</td>\n",
       "      <td>0.258064</td>\n",
       "      <td>0.163398</td>\n",
       "      <td>0.310823</td>\n",
       "      <td>0.295962</td>\n",
       "      <td>614.028907</td>\n",
       "      <td>6.612871e+02</td>\n",
       "    </tr>\n",
       "    <tr>\n",
       "      <th>min</th>\n",
       "      <td>6.034416e+15</td>\n",
       "      <td>4.828100e+04</td>\n",
       "      <td>22.000000</td>\n",
       "      <td>0.000000</td>\n",
       "      <td>0.000000</td>\n",
       "      <td>0.000000</td>\n",
       "      <td>0.000000</td>\n",
       "      <td>0.000000</td>\n",
       "      <td>0.000000</td>\n",
       "      <td>0.000000</td>\n",
       "      <td>441372.224765</td>\n",
       "      <td>4.476512e+06</td>\n",
       "    </tr>\n",
       "    <tr>\n",
       "      <th>25%</th>\n",
       "      <td>4.890341e+18</td>\n",
       "      <td>3.400020e+05</td>\n",
       "      <td>77.000000</td>\n",
       "      <td>2.000000</td>\n",
       "      <td>1.000000</td>\n",
       "      <td>0.000000</td>\n",
       "      <td>0.000000</td>\n",
       "      <td>0.000000</td>\n",
       "      <td>0.000000</td>\n",
       "      <td>1.000000</td>\n",
       "      <td>442120.762177</td>\n",
       "      <td>4.477055e+06</td>\n",
       "    </tr>\n",
       "    <tr>\n",
       "      <th>50%</th>\n",
       "      <td>9.223372e+18</td>\n",
       "      <td>5.252540e+05</td>\n",
       "      <td>108.000000</td>\n",
       "      <td>3.000000</td>\n",
       "      <td>2.000000</td>\n",
       "      <td>0.000000</td>\n",
       "      <td>0.000000</td>\n",
       "      <td>0.000000</td>\n",
       "      <td>0.000000</td>\n",
       "      <td>1.000000</td>\n",
       "      <td>442622.122753</td>\n",
       "      <td>4.477562e+06</td>\n",
       "    </tr>\n",
       "    <tr>\n",
       "      <th>75%</th>\n",
       "      <td>9.223372e+18</td>\n",
       "      <td>9.548910e+05</td>\n",
       "      <td>184.000000</td>\n",
       "      <td>4.000000</td>\n",
       "      <td>3.000000</td>\n",
       "      <td>0.000000</td>\n",
       "      <td>0.000000</td>\n",
       "      <td>0.000000</td>\n",
       "      <td>0.000000</td>\n",
       "      <td>1.000000</td>\n",
       "      <td>442998.347628</td>\n",
       "      <td>4.478111e+06</td>\n",
       "    </tr>\n",
       "    <tr>\n",
       "      <th>max</th>\n",
       "      <td>9.223372e+18</td>\n",
       "      <td>1.460009e+07</td>\n",
       "      <td>1170.000000</td>\n",
       "      <td>15.000000</td>\n",
       "      <td>10.000000</td>\n",
       "      <td>1.000000</td>\n",
       "      <td>1.000000</td>\n",
       "      <td>1.000000</td>\n",
       "      <td>1.000000</td>\n",
       "      <td>1.000000</td>\n",
       "      <td>443872.278545</td>\n",
       "      <td>4.478966e+06</td>\n",
       "    </tr>\n",
       "  </tbody>\n",
       "</table>\n",
       "</div>"
      ],
      "text/plain": [
       "               CODE         PRICE         AREA   ROOMNUMBER   BATHNUMBER  \\\n",
       "count  2.733000e+03  2.733000e+03  2733.000000  2733.000000  2733.000000   \n",
       "mean   7.033958e+18  8.102975e+05   146.481888     2.935602     2.079034   \n",
       "std    2.932817e+18  8.343778e+05   110.170071     1.478329     1.129423   \n",
       "min    6.034416e+15  4.828100e+04    22.000000     0.000000     0.000000   \n",
       "25%    4.890341e+18  3.400020e+05    77.000000     2.000000     1.000000   \n",
       "50%    9.223372e+18  5.252540e+05   108.000000     3.000000     2.000000   \n",
       "75%    9.223372e+18  9.548910e+05   184.000000     4.000000     3.000000   \n",
       "max    9.223372e+18  1.460009e+07  1170.000000    15.000000    10.000000   \n",
       "\n",
       "            STUDIO  ISPENTHOUSE       DUPLEX  SWIMMINGPOOL     ELEVATOR  \\\n",
       "count  2733.000000  2733.000000  2733.000000   2733.000000  2733.000000   \n",
       "mean      0.019027     0.071716     0.027442      0.108306     0.903037   \n",
       "std       0.136644     0.258064     0.163398      0.310823     0.295962   \n",
       "min       0.000000     0.000000     0.000000      0.000000     0.000000   \n",
       "25%       0.000000     0.000000     0.000000      0.000000     1.000000   \n",
       "50%       0.000000     0.000000     0.000000      0.000000     1.000000   \n",
       "75%       0.000000     0.000000     0.000000      0.000000     1.000000   \n",
       "max       1.000000     1.000000     1.000000      1.000000     1.000000   \n",
       "\n",
       "                   X             Y  \n",
       "count    2733.000000  2.733000e+03  \n",
       "mean   442558.737161  4.477613e+06  \n",
       "std       614.028907  6.612871e+02  \n",
       "min    441372.224765  4.476512e+06  \n",
       "25%    442120.762177  4.477055e+06  \n",
       "50%    442622.122753  4.477562e+06  \n",
       "75%    442998.347628  4.478111e+06  \n",
       "max    443872.278545  4.478966e+06  "
      ]
     },
     "execution_count": 2,
     "metadata": {},
     "output_type": "execute_result"
    }
   ],
   "source": [
    "df_flats = pd.read_csv('https://raw.githubusercontent.com/davidreyblanco/ml-training/master/data/sample-flats-madrid.csv.gz', delimiter=';')\n",
    "datos"
   ]
  },
  {
   "cell_type": "markdown",
   "metadata": {},
   "source": [
    "## Construcción de nuevas características\n",
    "\n",
    "Generamos la variable de euros metro cuadrado y la llamaremos **UNITPRICE**, vamos a revisar que tenemos:"
   ]
  },
  {
   "cell_type": "code",
   "execution_count": 10,
   "metadata": {},
   "outputs": [
    {
     "data": {
      "text/plain": [
       "count      2733.000000\n",
       "mean       5388.578865\n",
       "std        4544.193344\n",
       "min         629.748503\n",
       "25%        4089.204255\n",
       "50%        4987.116279\n",
       "75%        6039.840000\n",
       "max      211595.449275\n",
       "Name: UNITPRICE, dtype: float64"
      ]
     },
     "execution_count": 10,
     "metadata": {},
     "output_type": "execute_result"
    }
   ],
   "source": [
    "df_flats['UNITPRICE'] = df_flats['PRICE'] / df_flats['AREA']\n",
    "df_flats['UNITPRICE'].describe()"
   ]
  },
  {
   "cell_type": "markdown",
   "metadata": {},
   "source": [
    "## Descriptivos\n",
    "\n",
    "Completamos nuestro análisis exploratorio"
   ]
  },
  {
   "cell_type": "code",
   "execution_count": null,
   "metadata": {},
   "outputs": [],
   "source": []
  },
  {
   "cell_type": "markdown",
   "metadata": {},
   "source": [
    "# Objetivos\n",
    "Queremos construir un modelo de regresión basado en K-Vecinos que estime el precio en euros de un inmueble, para ello usarmos un algortimo que modele como target la variable *UNITPRICE* y nuestro resultado será el precio €/m² que nos de nuestro modelo multiplicado por la superficie del inmueble:\n",
    "\n",
    "$$\n",
    "Precio final = UNITPRICE_{KNN} \\cdot Superficie\n",
    "$$"
   ]
  },
  {
   "cell_type": "markdown",
   "metadata": {},
   "source": [
    "# Tratamiento previo de variables"
   ]
  },
  {
   "cell_type": "markdown",
   "metadata": {},
   "source": [
    "## Transformación de variables\n",
    "¿Qué hacemos con las variables?, ¿las dejamos como están?, vemos que las escalas son muy diferentes, después tenemos variables booleanas (por suerte no tenemos variables categóricas) ..."
   ]
  },
  {
   "cell_type": "code",
   "execution_count": null,
   "metadata": {},
   "outputs": [],
   "source": []
  },
  {
   "cell_type": "markdown",
   "metadata": {},
   "source": [
    "## Bonus track en transformación de variables\n",
    "\n",
    "¿Qué diferencias observamos cuando aplicamos distintos tipos de transformación sobre las variables continuas?:\n",
    "\n",
    "* preprocessing.MinMaxScaler\n",
    "* preprocessing.Normalizer\n",
    "* preprocessing.PowerTransformer\n",
    "\n",
    "[Transformers scikit-learn](https://scikit-learn.org/stable/modules/classes.html#module-sklearn.preprocessing)"
   ]
  },
  {
   "cell_type": "markdown",
   "metadata": {},
   "source": [
    "## Selección de características\n",
    "Este es quizás el paso más complicado de todos, porque requiere a veces la toma de decisiones en base a criterios expertos, ¿Qué características usamos?, ¿Cuáles será nuestra variable objetivo (o a predecir)?"
   ]
  },
  {
   "cell_type": "code",
   "execution_count": null,
   "metadata": {},
   "outputs": [],
   "source": []
  },
  {
   "cell_type": "markdown",
   "metadata": {},
   "source": [
    "# ¿Cómo funciona de bien nuestro modelo?\n",
    "\n",
    "Para evaluar nuestro modelo debemos seleccionar una métrica de error, penalización, pérdida o como la queramos llamar. Debe representar lo mal que funciona nuestro modelo. Como es lógico debemos aspirar a un modelo que ofrezca el menor valor posible para esta función.\n",
    "\n",
    "En los modelos de regresión las métricas más habituales son:\n",
    "\n",
    "* MAE - Error medio en valor absoluto\n",
    "* MEDAE - Error mediano en valor absoluto\n",
    "* RMSE - Error cuadrático medio \n",
    "\n",
    "**Importante**: Los errores cuadráticos son interesantes porque nos ayudan a penalizar aquellas predicciones que son más extremas, en este caso limitan la dispersión de los errores producidos por el modelo"
   ]
  },
  {
   "cell_type": "code",
   "execution_count": null,
   "metadata": {},
   "outputs": [],
   "source": []
  },
  {
   "cell_type": "markdown",
   "metadata": {},
   "source": [
    "# Optimización de nuestro modelo\n",
    "\n",
    "Hemo elegido un K=6 un poco de forma arbitraria (y porque es la recomendación del Banco de España en procesos de tasación), sin embargo algo nos dice que quizá no sea el K más adecuado, vamos a realizar una búsqueda"
   ]
  },
  {
   "cell_type": "code",
   "execution_count": null,
   "metadata": {},
   "outputs": [],
   "source": []
  },
  {
   "cell_type": "markdown",
   "metadata": {},
   "source": [
    "## Bonus track el K variable\n",
    "Vamos a probar que pasa si con el K para distintos segmentos de nuestra muestra, por ejemplo en base a dos segmentos:\n",
    "\n",
    "* Si tiene ascensor o no\n",
    "* Si es estudio o no\n",
    "\n",
    "¿Qué pasa con la estabilidad de nuestro K cuando nuestra muestra es pequeña (es estudio = Si)?"
   ]
  },
  {
   "cell_type": "code",
   "execution_count": null,
   "metadata": {},
   "outputs": [],
   "source": []
  },
  {
   "cell_type": "markdown",
   "metadata": {},
   "source": [
    "# Efecto de la medida de distancia\n",
    "En principio podemos haber elegido alguna de las medidas estándar basadas en Minkowski (euclídea, manhattan, etc), aunque en general este es el segunddo gran reto de este tipo de modelos ¿qué medida de distancia tomo?\n",
    "\n",
    "Podemos probar a evaluar el comportamiento (error) del modelo para distintas medidas de distancia, ¿qué vemos?"
   ]
  },
  {
   "cell_type": "code",
   "execution_count": null,
   "metadata": {},
   "outputs": [],
   "source": []
  },
  {
   "cell_type": "markdown",
   "metadata": {},
   "source": [
    "## Medida de distancia a medida\n",
    "La medida de distancia es complicada vamos a construir una a medida que sea una distancia propia calculada como:\n",
    "\n",
    "$$\n",
    " Distancia (piso A, piso B) = 0.8 \\cdot Distancia_{Manhattan} [coordenadas(a,b)] + 0.2 \\cdot Distancia_{Euclidea} [resto(a,b)]\n",
    "$$\n"
   ]
  },
  {
   "cell_type": "markdown",
   "metadata": {},
   "source": [
    "# Conclusiones\n",
    "Ahora llega casi lo más complicado, ¿qué conclusiones hemos sacado de este ejercicio?, deberíamos poder decir algo sobre:\n",
    "\n",
    "* ¿Qué ventajas inconvenientes vemos en este tipo de algoritmo versus modelso de árboles, regresión, etc?\n",
    "* Política de tratamiento previo de los datos\n",
    "* Efecto de las medidas de distancia utilizadas\n",
    "* Como estimar el K Óptimo\n",
    "* Sensibilidad de nuestro modelo ante falta de datos"
   ]
  },
  {
   "cell_type": "markdown",
   "metadata": {},
   "source": [
    "# Referencias\n",
    "[K-Neighbors Scikitlearn](https://scikit-learn.org/stable/modules/classes.html#module-sklearn.neighbors)"
   ]
  }
 ],
 "metadata": {
  "kernelspec": {
   "display_name": "Python 3",
   "language": "python",
   "name": "python3"
  },
  "language_info": {
   "codemirror_mode": {
    "name": "ipython",
    "version": 3
   },
   "file_extension": ".py",
   "mimetype": "text/x-python",
   "name": "python",
   "nbconvert_exporter": "python",
   "pygments_lexer": "ipython3",
   "version": "3.6.6"
  },
  "varInspector": {
   "cols": {
    "lenName": 16,
    "lenType": 16,
    "lenVar": 40
   },
   "kernels_config": {
    "python": {
     "delete_cmd_postfix": "",
     "delete_cmd_prefix": "del ",
     "library": "var_list.py",
     "varRefreshCmd": "print(var_dic_list())"
    },
    "r": {
     "delete_cmd_postfix": ") ",
     "delete_cmd_prefix": "rm(",
     "library": "var_list.r",
     "varRefreshCmd": "cat(var_dic_list()) "
    }
   },
   "types_to_exclude": [
    "module",
    "function",
    "builtin_function_or_method",
    "instance",
    "_Feature"
   ],
   "window_display": false
  }
 },
 "nbformat": 4,
 "nbformat_minor": 2
}

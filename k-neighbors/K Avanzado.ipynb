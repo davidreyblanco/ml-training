{
 "cells": [
  {
   "cell_type": "markdown",
   "metadata": {},
   "source": [
    "<img src=\"https://thevalley.es/wp-content/uploads/2016/11/thevalley-logo-negro.png\" width=\"400\"></img>"
   ]
  },
  {
   "cell_type": "code",
   "execution_count": 19,
   "metadata": {},
   "outputs": [
    {
     "name": "stdout",
     "output_type": "stream",
     "text": [
      "Leyendo lista de paquetes... Hecho\n",
      "E: No se pudo abrir el fichero de bloqueo «/var/lib/apt/lists/lock» - open (13: Permiso denegado)\n",
      "E: No se pudo bloquear el directorio /var/lib/apt/lists/\n",
      "W: Se produjo un problema al desligar el fichero /var/cache/apt/pkgcache.bin - RemoveCaches (13: Permiso denegado)\n",
      "W: Se produjo un problema al desligar el fichero /var/cache/apt/srcpkgcache.bin - RemoveCaches (13: Permiso denegado)\n",
      "E: No se pudo abrir el fichero de bloqueo «/var/lib/dpkg/lock-frontend» - open (13: Permiso denegado)\n",
      "E: Unable to acquire the dpkg frontend lock (/var/lib/dpkg/lock-frontend), are you root?\n",
      "E: No se pudo abrir el fichero de bloqueo «/var/lib/dpkg/lock-frontend» - open (13: Permiso denegado)\n",
      "E: Unable to acquire the dpkg frontend lock (/var/lib/dpkg/lock-frontend), are you root?\n",
      "E: No se pudo abrir el fichero de bloqueo «/var/lib/dpkg/lock-frontend» - open (13: Permiso denegado)\n",
      "E: Unable to acquire the dpkg frontend lock (/var/lib/dpkg/lock-frontend), are you root?\n",
      "Collecting git+git://github.com/geopandas/geopandas.git\n",
      "  Cloning git://github.com/geopandas/geopandas.git to /tmp/pip-req-build-g7pgpvwh\n",
      "Collecting pandas>=0.24.0 (from geopandas==0.9.0+5.gb6174f4)\n",
      "  Using cached https://files.pythonhosted.org/packages/c3/e2/00cacecafbab071c787019f00ad84ca3185952f6bb9bca9550ed83870d4d/pandas-1.1.5-cp36-cp36m-manylinux1_x86_64.whl\n",
      "Collecting shapely>=1.6 (from geopandas==0.9.0+5.gb6174f4)\n",
      "  Using cached https://files.pythonhosted.org/packages/9d/18/557d4f55453fe00f59807b111cc7b39ce53594e13ada88e16738fb4ff7fb/Shapely-1.7.1-cp36-cp36m-manylinux1_x86_64.whl\n",
      "Collecting fiona>=1.8 (from geopandas==0.9.0+5.gb6174f4)\n",
      "  Using cached https://files.pythonhosted.org/packages/37/94/4910fd55246c1d963727b03885ead6ef1cd3748a465f7b0239ab25dfc9a3/Fiona-1.8.18-cp36-cp36m-manylinux1_x86_64.whl\n",
      "Collecting pyproj>=2.2.0 (from geopandas==0.9.0+5.gb6174f4)\n",
      "  Using cached https://files.pythonhosted.org/packages/2c/12/7a8cca32506747c05ffd5c6ba556cf8435754af0939906cbcc7fa5802ea3/pyproj-3.0.1.tar.gz\n",
      "  Installing build dependencies ... \u001b[?25ldone\n",
      "\u001b[?25h    Complete output from command python setup.py egg_info:\n",
      "    ERROR: Minimum supported PROJ version is 7.2.0, installed version is 4.9.3. For more information see: https://pyproj4.github.io/pyproj/stable/installation.html\n",
      "    \n",
      "    ----------------------------------------\n",
      "\u001b[31mCommand \"python setup.py egg_info\" failed with error code 1 in /tmp/pip-install-_4faz3m4/pyproj/\u001b[0m\n",
      "Collecting descartes\n",
      "  Downloading https://files.pythonhosted.org/packages/e5/b6/1ed2eb03989ae574584664985367ba70cd9cf8b32ee8cad0e8aaeac819f3/descartes-1.1.0-py3-none-any.whl\n",
      "Requirement already satisfied: matplotlib in /home/vant/anaconda3/lib/python3.6/site-packages (from descartes) (2.2.2)\n",
      "Requirement already satisfied: numpy>=1.7.1 in /home/vant/anaconda3/lib/python3.6/site-packages (from matplotlib->descartes) (1.15.4)\n",
      "Requirement already satisfied: cycler>=0.10 in /home/vant/anaconda3/lib/python3.6/site-packages (from matplotlib->descartes) (0.10.0)\n",
      "Requirement already satisfied: pyparsing!=2.0.4,!=2.1.2,!=2.1.6,>=2.0.1 in /home/vant/anaconda3/lib/python3.6/site-packages (from matplotlib->descartes) (2.3.0)\n",
      "Requirement already satisfied: python-dateutil>=2.1 in /home/vant/anaconda3/lib/python3.6/site-packages (from matplotlib->descartes) (2.7.5)\n",
      "Requirement already satisfied: pytz in /home/vant/anaconda3/lib/python3.6/site-packages (from matplotlib->descartes) (2018.7)\n",
      "Requirement already satisfied: six>=1.10 in /home/vant/anaconda3/lib/python3.6/site-packages (from matplotlib->descartes) (1.12.0)\n",
      "Requirement already satisfied: kiwisolver>=1.0.1 in /home/vant/anaconda3/lib/python3.6/site-packages (from matplotlib->descartes) (1.0.1)\n",
      "Requirement already satisfied: setuptools in /home/vant/anaconda3/lib/python3.6/site-packages (from kiwisolver>=1.0.1->matplotlib->descartes) (40.6.3)\n",
      "Installing collected packages: descartes\n",
      "Successfully installed descartes-1.1.0\n",
      "CPU times: user 379 ms, sys: 163 ms, total: 542 ms\n",
      "Wall time: 14.9 s\n"
     ]
    }
   ],
   "source": [
    "%%time \n",
    "!apt update\n",
    "!apt upgrade\n",
    "!apt install gdal-bin python-gdal python3-gdal \n",
    "# Install rtree - Geopandas requirment\n",
    "!apt install python3-rtree \n",
    "# Install Geopandas\n",
    "!pip install git+git://github.com/geopandas/geopandas.git\n",
    "# Install descartes - Geopandas requirment\n",
    "!pip install descartes \n",
    "\n",
    "\n"
   ]
  },
  {
   "cell_type": "code",
   "execution_count": 18,
   "metadata": {},
   "outputs": [
    {
     "name": "stdout",
     "output_type": "stream",
     "text": [
      "Collecting pyproj\n",
      "  Using cached https://files.pythonhosted.org/packages/2c/12/7a8cca32506747c05ffd5c6ba556cf8435754af0939906cbcc7fa5802ea3/pyproj-3.0.1.tar.gz\n",
      "  Installing build dependencies ... \u001b[?25ldone\n",
      "\u001b[?25h    Complete output from command python setup.py egg_info:\n",
      "    ERROR: Minimum supported PROJ version is 7.2.0, installed version is 4.9.3. For more information see: https://pyproj4.github.io/pyproj/stable/installation.html\n",
      "    \n",
      "    ----------------------------------------\n",
      "\u001b[31mCommand \"python setup.py egg_info\" failed with error code 1 in /tmp/pip-install-aghuxkaq/pyproj/\u001b[0m\n",
      "Requirement already satisfied: pygeos in /home/vant/anaconda3/lib/python3.6/site-packages (0.9)\n",
      "Requirement already satisfied: numpy>=1.13 in /home/vant/anaconda3/lib/python3.6/site-packages (from pygeos) (1.15.4)\n",
      "Collecting geopandas\n",
      "  Using cached https://files.pythonhosted.org/packages/d7/bf/e9cefb69d39155d122b6ddca53893b61535fa6ffdad70bf5ef708977f53f/geopandas-0.9.0-py2.py3-none-any.whl\n",
      "Collecting pandas>=0.24.0 (from geopandas)\n",
      "  Using cached https://files.pythonhosted.org/packages/c3/e2/00cacecafbab071c787019f00ad84ca3185952f6bb9bca9550ed83870d4d/pandas-1.1.5-cp36-cp36m-manylinux1_x86_64.whl\n",
      "Collecting shapely>=1.6 (from geopandas)\n",
      "  Using cached https://files.pythonhosted.org/packages/9d/18/557d4f55453fe00f59807b111cc7b39ce53594e13ada88e16738fb4ff7fb/Shapely-1.7.1-cp36-cp36m-manylinux1_x86_64.whl\n",
      "Collecting fiona>=1.8 (from geopandas)\n",
      "  Using cached https://files.pythonhosted.org/packages/37/94/4910fd55246c1d963727b03885ead6ef1cd3748a465f7b0239ab25dfc9a3/Fiona-1.8.18-cp36-cp36m-manylinux1_x86_64.whl\n",
      "Collecting pyproj>=2.2.0 (from geopandas)\n",
      "  Using cached https://files.pythonhosted.org/packages/2c/12/7a8cca32506747c05ffd5c6ba556cf8435754af0939906cbcc7fa5802ea3/pyproj-3.0.1.tar.gz\n",
      "  Installing build dependencies ... \u001b[?25ldone\n",
      "\u001b[?25h    Complete output from command python setup.py egg_info:\n",
      "    ERROR: Minimum supported PROJ version is 7.2.0, installed version is 4.9.3. For more information see: https://pyproj4.github.io/pyproj/stable/installation.html\n",
      "    \n",
      "    ----------------------------------------\n",
      "\u001b[31mCommand \"python setup.py egg_info\" failed with error code 1 in /tmp/pip-install-w23x96wv/pyproj/\u001b[0m\n"
     ]
    }
   ],
   "source": [
    "!pip install --upgrade pyproj \n",
    "!pip install pygeos\n",
    "!pip install --upgrade geopandas"
   ]
  },
  {
   "cell_type": "markdown",
   "metadata": {},
   "source": [
    "# Carga de datos y descriptivos\n",
    "\n",
    "El dataset que usaremos para el ejercicio corresponde a pisos para varias zonas de Madrid (nota: se ha generado en base a un modelo de valoración creado con información de portales inmobiliarios), los campos principales son:\n",
    "\n",
    "* CODE codigo único del anuncio\n",
    "* PRICE precio en euros\n",
    "* AREA Superficie construida\n",
    "* ROOMNUMBER Número de estancias (huecos)\n",
    "* BATHNUMBER Número de baños\n",
    "* STUDIO - Variable binaria  1 - Es un estudio 0 - No es un estudio\n",
    "* ISPENTHHOUSE - Variable binaria  1 - Es un ático 0 - No es un ático\n",
    "* DUPLEX - Variable binaria  1 - Es un dúplex 0 - No es un dúplex\n",
    "* SWIMMINGPOOL - Variable binaria  1 - Tiene piscina - 0 No tiene piscina\n",
    "* ELEVATOR - Variable binaria  1 - Tiene ascensor - 0 No tiene ascensor\n",
    "* X - Coordenada geográfica X de la localización (longitud en EPGS:25830)\n",
    "* Y - Coordenada geográfica X de la localización (latitud en EPGS:25830)\n",
    "\n",
    "**Nota**: la proyección de las coordenadas es  la EPGS:25830 https://spatialreference.org/ref/epsg/etrs89-utm-zone-30n/ una unidad en esta medida representa un metro"
   ]
  },
  {
   "cell_type": "markdown",
   "metadata": {},
   "source": [
    "## Descarga de datos y descriptivos básicos\n",
    "\n",
    "Descargamos los datos desde el repositorio y extraemos algunos descriptivos"
   ]
  },
  {
   "cell_type": "code",
   "execution_count": 7,
   "metadata": {},
   "outputs": [
    {
     "data": {
      "text/html": [
       "<div>\n",
       "<style scoped>\n",
       "    .dataframe tbody tr th:only-of-type {\n",
       "        vertical-align: middle;\n",
       "    }\n",
       "\n",
       "    .dataframe tbody tr th {\n",
       "        vertical-align: top;\n",
       "    }\n",
       "\n",
       "    .dataframe thead th {\n",
       "        text-align: right;\n",
       "    }\n",
       "</style>\n",
       "<table border=\"1\" class=\"dataframe\">\n",
       "  <thead>\n",
       "    <tr style=\"text-align: right;\">\n",
       "      <th></th>\n",
       "      <th>CODE</th>\n",
       "      <th>PRICE</th>\n",
       "      <th>AREA</th>\n",
       "      <th>ROOMNUMBER</th>\n",
       "      <th>BATHNUMBER</th>\n",
       "      <th>STUDIO</th>\n",
       "      <th>ISPENTHOUSE</th>\n",
       "      <th>DUPLEX</th>\n",
       "      <th>SWIMMINGPOOL</th>\n",
       "      <th>ELEVATOR</th>\n",
       "      <th>X</th>\n",
       "      <th>Y</th>\n",
       "    </tr>\n",
       "  </thead>\n",
       "  <tbody>\n",
       "    <tr>\n",
       "      <th>count</th>\n",
       "      <td>2.733000e+03</td>\n",
       "      <td>2.733000e+03</td>\n",
       "      <td>2733.000000</td>\n",
       "      <td>2733.000000</td>\n",
       "      <td>2733.000000</td>\n",
       "      <td>2733.000000</td>\n",
       "      <td>2733.000000</td>\n",
       "      <td>2733.000000</td>\n",
       "      <td>2733.000000</td>\n",
       "      <td>2733.000000</td>\n",
       "      <td>2733.000000</td>\n",
       "      <td>2.733000e+03</td>\n",
       "    </tr>\n",
       "    <tr>\n",
       "      <th>mean</th>\n",
       "      <td>7.033958e+18</td>\n",
       "      <td>8.102975e+05</td>\n",
       "      <td>146.481888</td>\n",
       "      <td>2.935602</td>\n",
       "      <td>2.079034</td>\n",
       "      <td>0.019027</td>\n",
       "      <td>0.071716</td>\n",
       "      <td>0.027442</td>\n",
       "      <td>0.108306</td>\n",
       "      <td>0.903037</td>\n",
       "      <td>442558.737161</td>\n",
       "      <td>4.477613e+06</td>\n",
       "    </tr>\n",
       "    <tr>\n",
       "      <th>std</th>\n",
       "      <td>2.932817e+18</td>\n",
       "      <td>8.343778e+05</td>\n",
       "      <td>110.170071</td>\n",
       "      <td>1.478329</td>\n",
       "      <td>1.129423</td>\n",
       "      <td>0.136644</td>\n",
       "      <td>0.258064</td>\n",
       "      <td>0.163398</td>\n",
       "      <td>0.310823</td>\n",
       "      <td>0.295962</td>\n",
       "      <td>614.028907</td>\n",
       "      <td>6.612871e+02</td>\n",
       "    </tr>\n",
       "    <tr>\n",
       "      <th>min</th>\n",
       "      <td>6.034416e+15</td>\n",
       "      <td>4.828100e+04</td>\n",
       "      <td>22.000000</td>\n",
       "      <td>0.000000</td>\n",
       "      <td>0.000000</td>\n",
       "      <td>0.000000</td>\n",
       "      <td>0.000000</td>\n",
       "      <td>0.000000</td>\n",
       "      <td>0.000000</td>\n",
       "      <td>0.000000</td>\n",
       "      <td>441372.224765</td>\n",
       "      <td>4.476512e+06</td>\n",
       "    </tr>\n",
       "    <tr>\n",
       "      <th>25%</th>\n",
       "      <td>4.890341e+18</td>\n",
       "      <td>3.400020e+05</td>\n",
       "      <td>77.000000</td>\n",
       "      <td>2.000000</td>\n",
       "      <td>1.000000</td>\n",
       "      <td>0.000000</td>\n",
       "      <td>0.000000</td>\n",
       "      <td>0.000000</td>\n",
       "      <td>0.000000</td>\n",
       "      <td>1.000000</td>\n",
       "      <td>442120.762177</td>\n",
       "      <td>4.477055e+06</td>\n",
       "    </tr>\n",
       "    <tr>\n",
       "      <th>50%</th>\n",
       "      <td>9.223372e+18</td>\n",
       "      <td>5.252540e+05</td>\n",
       "      <td>108.000000</td>\n",
       "      <td>3.000000</td>\n",
       "      <td>2.000000</td>\n",
       "      <td>0.000000</td>\n",
       "      <td>0.000000</td>\n",
       "      <td>0.000000</td>\n",
       "      <td>0.000000</td>\n",
       "      <td>1.000000</td>\n",
       "      <td>442622.122753</td>\n",
       "      <td>4.477562e+06</td>\n",
       "    </tr>\n",
       "    <tr>\n",
       "      <th>75%</th>\n",
       "      <td>9.223372e+18</td>\n",
       "      <td>9.548910e+05</td>\n",
       "      <td>184.000000</td>\n",
       "      <td>4.000000</td>\n",
       "      <td>3.000000</td>\n",
       "      <td>0.000000</td>\n",
       "      <td>0.000000</td>\n",
       "      <td>0.000000</td>\n",
       "      <td>0.000000</td>\n",
       "      <td>1.000000</td>\n",
       "      <td>442998.347628</td>\n",
       "      <td>4.478111e+06</td>\n",
       "    </tr>\n",
       "    <tr>\n",
       "      <th>max</th>\n",
       "      <td>9.223372e+18</td>\n",
       "      <td>1.460009e+07</td>\n",
       "      <td>1170.000000</td>\n",
       "      <td>15.000000</td>\n",
       "      <td>10.000000</td>\n",
       "      <td>1.000000</td>\n",
       "      <td>1.000000</td>\n",
       "      <td>1.000000</td>\n",
       "      <td>1.000000</td>\n",
       "      <td>1.000000</td>\n",
       "      <td>443872.278545</td>\n",
       "      <td>4.478966e+06</td>\n",
       "    </tr>\n",
       "  </tbody>\n",
       "</table>\n",
       "</div>"
      ],
      "text/plain": [
       "               CODE         PRICE         AREA   ROOMNUMBER   BATHNUMBER  \\\n",
       "count  2.733000e+03  2.733000e+03  2733.000000  2733.000000  2733.000000   \n",
       "mean   7.033958e+18  8.102975e+05   146.481888     2.935602     2.079034   \n",
       "std    2.932817e+18  8.343778e+05   110.170071     1.478329     1.129423   \n",
       "min    6.034416e+15  4.828100e+04    22.000000     0.000000     0.000000   \n",
       "25%    4.890341e+18  3.400020e+05    77.000000     2.000000     1.000000   \n",
       "50%    9.223372e+18  5.252540e+05   108.000000     3.000000     2.000000   \n",
       "75%    9.223372e+18  9.548910e+05   184.000000     4.000000     3.000000   \n",
       "max    9.223372e+18  1.460009e+07  1170.000000    15.000000    10.000000   \n",
       "\n",
       "            STUDIO  ISPENTHOUSE       DUPLEX  SWIMMINGPOOL     ELEVATOR  \\\n",
       "count  2733.000000  2733.000000  2733.000000   2733.000000  2733.000000   \n",
       "mean      0.019027     0.071716     0.027442      0.108306     0.903037   \n",
       "std       0.136644     0.258064     0.163398      0.310823     0.295962   \n",
       "min       0.000000     0.000000     0.000000      0.000000     0.000000   \n",
       "25%       0.000000     0.000000     0.000000      0.000000     1.000000   \n",
       "50%       0.000000     0.000000     0.000000      0.000000     1.000000   \n",
       "75%       0.000000     0.000000     0.000000      0.000000     1.000000   \n",
       "max       1.000000     1.000000     1.000000      1.000000     1.000000   \n",
       "\n",
       "                   X             Y  \n",
       "count    2733.000000  2.733000e+03  \n",
       "mean   442558.737161  4.477613e+06  \n",
       "std       614.028907  6.612871e+02  \n",
       "min    441372.224765  4.476512e+06  \n",
       "25%    442120.762177  4.477055e+06  \n",
       "50%    442622.122753  4.477562e+06  \n",
       "75%    442998.347628  4.478111e+06  \n",
       "max    443872.278545  4.478966e+06  "
      ]
     },
     "execution_count": 7,
     "metadata": {},
     "output_type": "execute_result"
    }
   ],
   "source": [
    "df_flats = pd.read_csv('https://raw.githubusercontent.com/davidreyblanco/ml-training/master/data/sample-flats-madrid.csv.gz', delimiter=';')\n",
    "df_flats.describe()"
   ]
  },
  {
   "cell_type": "markdown",
   "metadata": {},
   "source": [
    "## Transformacion básica de variables\n",
    "\n",
    "Generamos la variable de euros metro cuadrado y la llamaremos **UNITPRICE**, vamos a revisar que tenemos:"
   ]
  },
  {
   "cell_type": "code",
   "execution_count": 10,
   "metadata": {},
   "outputs": [
    {
     "data": {
      "text/plain": [
       "count      2733.000000\n",
       "mean       5388.578865\n",
       "std        4544.193344\n",
       "min         629.748503\n",
       "25%        4089.204255\n",
       "50%        4987.116279\n",
       "75%        6039.840000\n",
       "max      211595.449275\n",
       "Name: UNITPRICE, dtype: float64"
      ]
     },
     "execution_count": 10,
     "metadata": {},
     "output_type": "execute_result"
    }
   ],
   "source": [
    "df_flats['UNITPRICE'] = df_flats['PRICE'] / df_flats['AREA']\n",
    "df_flats['UNITPRICE'].describe()"
   ]
  },
  {
   "cell_type": "markdown",
   "metadata": {},
   "source": [
    "# Referencias\n",
    "[K-Neighbors Scikitlearn](https://scikit-learn.org/stable/modules/classes.html#module-sklearn.neighbors)"
   ]
  },
  {
   "cell_type": "markdown",
   "metadata": {},
   "source": [
    "# Ejercicios propuestos"
   ]
  },
  {
   "cell_type": "markdown",
   "metadata": {},
   "source": [
    "## Clasificador de zonas gemelas\n",
    "Tenemos un listado de zonas en el municipio de Madrid, cada zona tiene una serie de características numéricas, eliminamos del conjunto de entrada los barrios Sol, ...."
   ]
  },
  {
   "cell_type": "markdown",
   "metadata": {},
   "source": [
    "## Prediciendo la felicidad\n",
    "\n",
    "Podemos predecir la felicidad de un país en base a sus características, el ejercicio consiste en eliminar Japón, España, Alemania y Argelia del conjunto de entrenamiento y crear un modelo de k-vecinos de regresión con el resto de instancias. Una una vez lo tenemos tenemos que calcular la fiabilidad  de nuestro modelo con dos tres métricas:\n",
    "\n",
    "* Error medio\n",
    "* Error mediano\n",
    "* Error cuadrático medio\n",
    "\n",
    "El error lo calculamos como *nivel de felicidad predicho - nivel de felicidad real*\n",
    "\n",
    "*Pregunta 1)* ¿Con que número k funciona mejor el algoritmo?\n",
    "\n",
    "*Pregunta 2)*¿Cual es el efecto de usar pesos inversamente proporcionales a la distancia a no usarlos?"
   ]
  },
  {
   "cell_type": "code",
   "execution_count": null,
   "metadata": {},
   "outputs": [],
   "source": []
  }
 ],
 "metadata": {
  "kernelspec": {
   "display_name": "Python 3",
   "language": "python",
   "name": "python3"
  },
  "language_info": {
   "codemirror_mode": {
    "name": "ipython",
    "version": 3
   },
   "file_extension": ".py",
   "mimetype": "text/x-python",
   "name": "python",
   "nbconvert_exporter": "python",
   "pygments_lexer": "ipython3",
   "version": "3.6.6"
  },
  "varInspector": {
   "cols": {
    "lenName": 16,
    "lenType": 16,
    "lenVar": 40
   },
   "kernels_config": {
    "python": {
     "delete_cmd_postfix": "",
     "delete_cmd_prefix": "del ",
     "library": "var_list.py",
     "varRefreshCmd": "print(var_dic_list())"
    },
    "r": {
     "delete_cmd_postfix": ") ",
     "delete_cmd_prefix": "rm(",
     "library": "var_list.r",
     "varRefreshCmd": "cat(var_dic_list()) "
    }
   },
   "types_to_exclude": [
    "module",
    "function",
    "builtin_function_or_method",
    "instance",
    "_Feature"
   ],
   "window_display": false
  }
 },
 "nbformat": 4,
 "nbformat_minor": 2
}

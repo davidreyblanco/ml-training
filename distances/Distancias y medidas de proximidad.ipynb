{
 "cells": [
  {
   "cell_type": "markdown",
   "metadata": {},
   "source": [
    "# Introducción\n",
    "\n",
    "Las medidas de distancia indican lo que se parecen o no cada una de nuestras observaciones (o registros, según el dialecto que utilicemos), a menudo se utilizan indistintamente los términos de proximidad o similitud. Todos se refieren al mismo concepto pero existen ligeras diferencias.\n",
    "\n",
    "* *Proximidad* se refiere a ambos términos\n",
    "* La *similitud* y *disimilitud* son magnitudes recíprocas (un va al contrario de la otra)\n",
    "* Se puede definir una función que transforme de similitud a disimilitud\n",
    "* La *Distancia* se suele usar como sinónimo, pero es un caso particular de disimilitud\n",
    "* Si la llevamos números, la similitud en general suele expresarse dentro del intervalo [0-1] pero en ocasiones también se usa [0-infinito] o [-inf,+inf]\n",
    "\n"
   ]
  },
  {
   "cell_type": "code",
   "execution_count": 6,
   "metadata": {},
   "outputs": [],
   "source": [
    "# Datos\n",
    "import numpy as np\n",
    "import pandas as pd\n",
    "weather = "
   ]
  },
  {
   "cell_type": "markdown",
   "metadata": {},
   "source": [
    "## Medidas básicas de distancia\n",
    "\n",
    "De forma intuitiva podemos pensar en medidas de distancia entre variables sencillas como la edad o altura, o niveles de gasto."
   ]
  },
  {
   "cell_type": "code",
   "execution_count": null,
   "metadata": {},
   "outputs": [],
   "source": []
  },
  {
   "cell_type": "markdown",
   "metadata": {},
   "source": [
    "## Transformaciones básicas de los datos\n",
    "\n",
    "Sin embargo en los conjuntos de datos tenemos datos de distinta naturaleza, como pueden ser categóricos ordinales e incluso texto, ¿qué podemos hacer con los categóricos para sacar una medida de distancia?"
   ]
  },
  {
   "cell_type": "code",
   "execution_count": null,
   "metadata": {},
   "outputs": [],
   "source": []
  },
  {
   "cell_type": "markdown",
   "metadata": {},
   "source": [
    "# Distancias sobre magnitudes numéricas\n",
    "## Distancia euclídea\n",
    "\n",
    "La distancia euclidiana o métrica euclidiana es la distancia \"ordinaria\" (es decir, en línea recta) entre dos puntos, es una medida de distancia e intuitiva que se aplica facilmente a valores numéricos. De forma general la distancia entre la observación p y q, siendo ambos vectores de dimensión $n$, se calcularía como:\n",
    "$$ \\sqrt{\\sum_{i=1}^{n}{(p_i-q_i)^2}}$$\n",
    "Sólo para los amantes del álgebra es una medida aplicable a un [espacio euclídeo](https://es.wikipedia.org/wiki/Espacio_eucl%C3%ADdeo), elementos que por sus propiedades han servido de base para generar gran cantidad de conceptos matemáticos relacionados con la geometría analítica, la topología, el álgebra y el cálculo."
   ]
  },
  {
   "cell_type": "code",
   "execution_count": null,
   "metadata": {},
   "outputs": [],
   "source": [
    "\n"
   ]
  },
  {
   "cell_type": "markdown",
   "metadata": {},
   "source": [
    "## Distancia manhattan\n",
    "\n",
    "La geometría del taxi (taxicab) es una forma de geometría en la que la métrica habitual de la geometría euclidiana se reemplaza por una nueva métrica en la que la distancia entre dos puntos es la suma de las diferencias (absolutas) de sus coordenadas.\n",
    "La distancia de Manhattan, también conocida como *distancia rectilínea*, distancia de **bloque** de la ciudad, métrica de taxi se define como la suma de las longitudes de las proyecciones del segmento de línea entre los puntos en los ejes de coordenadas.\n",
    "En ajedrez, la distancia entre casillas del tablero de ajedrez para torres se mide en distancia de Manhattan.\n",
    "\n",
    "Se calula como $$ \\sum_{i=1}^{n}{|p_i-q_i|}$$"
   ]
  },
  {
   "cell_type": "code",
   "execution_count": null,
   "metadata": {},
   "outputs": [],
   "source": []
  },
  {
   "cell_type": "code",
   "execution_count": null,
   "metadata": {},
   "outputs": [],
   "source": [
    "## Distancia euclídea versus distancia manhattan\n"
   ]
  }
 ],
 "metadata": {
  "kernelspec": {
   "display_name": "Python 3",
   "language": "python",
   "name": "python3"
  },
  "language_info": {
   "codemirror_mode": {
    "name": "ipython",
    "version": 3
   },
   "file_extension": ".py",
   "mimetype": "text/x-python",
   "name": "python",
   "nbconvert_exporter": "python",
   "pygments_lexer": "ipython3",
   "version": "3.6.6"
  },
  "varInspector": {
   "cols": {
    "lenName": 16,
    "lenType": 16,
    "lenVar": 40
   },
   "kernels_config": {
    "python": {
     "delete_cmd_postfix": "",
     "delete_cmd_prefix": "del ",
     "library": "var_list.py",
     "varRefreshCmd": "print(var_dic_list())"
    },
    "r": {
     "delete_cmd_postfix": ") ",
     "delete_cmd_prefix": "rm(",
     "library": "var_list.r",
     "varRefreshCmd": "cat(var_dic_list()) "
    }
   },
   "types_to_exclude": [
    "module",
    "function",
    "builtin_function_or_method",
    "instance",
    "_Feature"
   ],
   "window_display": false
  }
 },
 "nbformat": 4,
 "nbformat_minor": 2
}

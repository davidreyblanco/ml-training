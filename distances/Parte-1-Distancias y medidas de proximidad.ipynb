{
 "cells": [
  {
   "cell_type": "markdown",
   "metadata": {},
   "source": [
    "<img src=\"https://thevalley.es/wp-content/uploads/2016/11/thevalley-logo-negro.png\" width=\"400\"></img>"
   ]
  },
  {
   "cell_type": "markdown",
   "metadata": {},
   "source": [
    "# Introducción a medidas de proximidad y similitud\n",
    "\n",
    "<img src=\"https://github.com/davidreyblanco/ml-training/blob/master/resources/distance.jpg?raw=true\" width=\"200\"></img>\n",
    "    \n",
    "*Autor*: David Rey\n",
    "\n",
    "*Recursos*: Los códigos de esta sesión y recursos se pueden encontra en el [repositorio](https://github.com/davidreyblanco/ml-training) \n",
    "<br/>\n",
    "<hr/>\n",
    "\n",
    "Las medidas de *proximidad* indican lo que se parecen o no cada una de nuestras observaciones (o registros, según el dialecto que utilicemos), a menudo se utilizan indistintamente los términos de proximidad o similitud. Todos se refieren al mismo concepto pero existen ligeras diferencias.\n",
    "\n",
    "* *Proximidad* se refiere a ambos términos\n",
    "* La *similitud* y *disimilitud* son magnitudes recíprocas (un va al contrario de la otra)\n",
    "* Se puede definir una función que transforme de similitud a disimilitud\n",
    "* La *Distancia* se suele usar como sinónimo, pero es un caso particular de disimilitud\n",
    "* Si la llevamos números, la similitud en general suele expresarse dentro del intervalo [0-1] pero en ocasiones también se usa [0-infinito] o [-inf,+inf]\n",
    "\n",
    "### Propiedades de las métricas de distancia (en los espacios vectoriales con vectores con norma)\n",
    "\n",
    "* No negatividad: d(x, y) >= 0\n",
    "* Identidad: d(x, y) = 0 if and only if x == y\n",
    "* Simetría: d(x, y) = d(y, x)\n",
    "* Desigualdad triangular: d(x, y) + d(y, z) >= d(x, z)\n",
    "\n",
    "## Conjuntos de datos\n",
    "Los ejemplos se han sacado de varios conjuntos de datos públicos de Kaggle\n",
    "\n",
    "**Calificaciones de estudiantes**\n",
    "\n",
    "El primer dataset cuenta con [Resultados de estudiantes](https://github.com/davidreyblanco/ml-training/blob/master/data/StudentsPerformance.csv) y su fuente original es http://roycekimmons.com/tools/generated_data/exams\n",
    "\n",
    "**El tiempo en australia**\n",
    "This dataset contains about 10 years of daily weather observations from many locations across Australia.\n",
    "RainTomorrow is the target variable to predict. It means -- did it rain the next day, Yes or No? This column is Yes if the rain for that day was 1mm or more.\n",
    "Source & Acknowledgements\n",
    "Observations were drawn from numerous weather stations. The daily observations are available from http://www.bom.gov.au/climate/data.\n",
    "An example of latest weather observations in Canberra: http://www.bom.gov.au/climate/dwo/IDCJDW2801.latest.shtml\n",
    "\n",
    "Definitions adapted from http://www.bom.gov.au/climate/dwo/IDCJDW0000.shtml\n",
    "Data source: http://www.bom.gov.au/climate/dwo/ and http://www.bom.gov.au/climate/data.\n"
   ]
  },
  {
   "cell_type": "code",
   "execution_count": 28,
   "metadata": {},
   "outputs": [],
   "source": [
    "# Carga de librerias\n",
    "import numpy as np\n",
    "import pandas as pd\n",
    "import sys\n",
    "import math\n",
    "import random\n",
    "%matplotlib inline\n",
    "import matplotlib.pyplot as plt\n",
    "import seaborn as sns\n",
    "# Ignoramos los warning que no quedan muy bien\n",
    "import warnings\n",
    "warnings.filterwarnings('ignore')\n",
    "# To determine which version you're using:\n",
    "#!pip show seaborn\n",
    "#!pip install --upgrade seaborn"
   ]
  },
  {
   "cell_type": "markdown",
   "metadata": {},
   "source": [
    "[Info sobre como importar librerías en colab](https://colab.research.google.com/notebooks/snippets/importing_libraries.ipynb#scrollTo=6km1lWMF2kAm)"
   ]
  },
  {
   "cell_type": "code",
   "execution_count": 29,
   "metadata": {
    "scrolled": true
   },
   "outputs": [
    {
     "data": {
      "text/html": [
       "<div>\n",
       "<style scoped>\n",
       "    .dataframe tbody tr th:only-of-type {\n",
       "        vertical-align: middle;\n",
       "    }\n",
       "\n",
       "    .dataframe tbody tr th {\n",
       "        vertical-align: top;\n",
       "    }\n",
       "\n",
       "    .dataframe thead th {\n",
       "        text-align: right;\n",
       "    }\n",
       "</style>\n",
       "<table border=\"1\" class=\"dataframe\">\n",
       "  <thead>\n",
       "    <tr style=\"text-align: right;\">\n",
       "      <th></th>\n",
       "      <th>Date</th>\n",
       "      <th>Location</th>\n",
       "      <th>MinTemp</th>\n",
       "      <th>MaxTemp</th>\n",
       "      <th>Rainfall</th>\n",
       "      <th>Evaporation</th>\n",
       "      <th>Sunshine</th>\n",
       "      <th>WindGustDir</th>\n",
       "      <th>WindGustSpeed</th>\n",
       "      <th>WindDir9am</th>\n",
       "      <th>...</th>\n",
       "      <th>Humidity9am</th>\n",
       "      <th>Humidity3pm</th>\n",
       "      <th>Pressure9am</th>\n",
       "      <th>Pressure3pm</th>\n",
       "      <th>Cloud9am</th>\n",
       "      <th>Cloud3pm</th>\n",
       "      <th>Temp9am</th>\n",
       "      <th>Temp3pm</th>\n",
       "      <th>RainToday</th>\n",
       "      <th>RainTomorrow</th>\n",
       "    </tr>\n",
       "  </thead>\n",
       "  <tbody>\n",
       "    <tr>\n",
       "      <th>0</th>\n",
       "      <td>2008-12-01</td>\n",
       "      <td>Albury</td>\n",
       "      <td>13.4</td>\n",
       "      <td>22.9</td>\n",
       "      <td>0.6</td>\n",
       "      <td>NaN</td>\n",
       "      <td>NaN</td>\n",
       "      <td>W</td>\n",
       "      <td>44.0</td>\n",
       "      <td>W</td>\n",
       "      <td>...</td>\n",
       "      <td>71.0</td>\n",
       "      <td>22.0</td>\n",
       "      <td>1007.7</td>\n",
       "      <td>1007.1</td>\n",
       "      <td>8.0</td>\n",
       "      <td>NaN</td>\n",
       "      <td>16.9</td>\n",
       "      <td>21.8</td>\n",
       "      <td>No</td>\n",
       "      <td>No</td>\n",
       "    </tr>\n",
       "    <tr>\n",
       "      <th>1</th>\n",
       "      <td>2008-12-02</td>\n",
       "      <td>Albury</td>\n",
       "      <td>7.4</td>\n",
       "      <td>25.1</td>\n",
       "      <td>0.0</td>\n",
       "      <td>NaN</td>\n",
       "      <td>NaN</td>\n",
       "      <td>WNW</td>\n",
       "      <td>44.0</td>\n",
       "      <td>NNW</td>\n",
       "      <td>...</td>\n",
       "      <td>44.0</td>\n",
       "      <td>25.0</td>\n",
       "      <td>1010.6</td>\n",
       "      <td>1007.8</td>\n",
       "      <td>NaN</td>\n",
       "      <td>NaN</td>\n",
       "      <td>17.2</td>\n",
       "      <td>24.3</td>\n",
       "      <td>No</td>\n",
       "      <td>No</td>\n",
       "    </tr>\n",
       "    <tr>\n",
       "      <th>2</th>\n",
       "      <td>2008-12-03</td>\n",
       "      <td>Albury</td>\n",
       "      <td>12.9</td>\n",
       "      <td>25.7</td>\n",
       "      <td>0.0</td>\n",
       "      <td>NaN</td>\n",
       "      <td>NaN</td>\n",
       "      <td>WSW</td>\n",
       "      <td>46.0</td>\n",
       "      <td>W</td>\n",
       "      <td>...</td>\n",
       "      <td>38.0</td>\n",
       "      <td>30.0</td>\n",
       "      <td>1007.6</td>\n",
       "      <td>1008.7</td>\n",
       "      <td>NaN</td>\n",
       "      <td>2.0</td>\n",
       "      <td>21.0</td>\n",
       "      <td>23.2</td>\n",
       "      <td>No</td>\n",
       "      <td>No</td>\n",
       "    </tr>\n",
       "    <tr>\n",
       "      <th>3</th>\n",
       "      <td>2008-12-04</td>\n",
       "      <td>Albury</td>\n",
       "      <td>9.2</td>\n",
       "      <td>28.0</td>\n",
       "      <td>0.0</td>\n",
       "      <td>NaN</td>\n",
       "      <td>NaN</td>\n",
       "      <td>NE</td>\n",
       "      <td>24.0</td>\n",
       "      <td>SE</td>\n",
       "      <td>...</td>\n",
       "      <td>45.0</td>\n",
       "      <td>16.0</td>\n",
       "      <td>1017.6</td>\n",
       "      <td>1012.8</td>\n",
       "      <td>NaN</td>\n",
       "      <td>NaN</td>\n",
       "      <td>18.1</td>\n",
       "      <td>26.5</td>\n",
       "      <td>No</td>\n",
       "      <td>No</td>\n",
       "    </tr>\n",
       "    <tr>\n",
       "      <th>4</th>\n",
       "      <td>2008-12-05</td>\n",
       "      <td>Albury</td>\n",
       "      <td>17.5</td>\n",
       "      <td>32.3</td>\n",
       "      <td>1.0</td>\n",
       "      <td>NaN</td>\n",
       "      <td>NaN</td>\n",
       "      <td>W</td>\n",
       "      <td>41.0</td>\n",
       "      <td>ENE</td>\n",
       "      <td>...</td>\n",
       "      <td>82.0</td>\n",
       "      <td>33.0</td>\n",
       "      <td>1010.8</td>\n",
       "      <td>1006.0</td>\n",
       "      <td>7.0</td>\n",
       "      <td>8.0</td>\n",
       "      <td>17.8</td>\n",
       "      <td>29.7</td>\n",
       "      <td>No</td>\n",
       "      <td>No</td>\n",
       "    </tr>\n",
       "  </tbody>\n",
       "</table>\n",
       "<p>5 rows × 23 columns</p>\n",
       "</div>"
      ],
      "text/plain": [
       "         Date Location  MinTemp  MaxTemp  Rainfall  Evaporation  Sunshine  \\\n",
       "0  2008-12-01   Albury     13.4     22.9       0.6          NaN       NaN   \n",
       "1  2008-12-02   Albury      7.4     25.1       0.0          NaN       NaN   \n",
       "2  2008-12-03   Albury     12.9     25.7       0.0          NaN       NaN   \n",
       "3  2008-12-04   Albury      9.2     28.0       0.0          NaN       NaN   \n",
       "4  2008-12-05   Albury     17.5     32.3       1.0          NaN       NaN   \n",
       "\n",
       "  WindGustDir  WindGustSpeed WindDir9am      ...      Humidity9am  \\\n",
       "0           W           44.0          W      ...             71.0   \n",
       "1         WNW           44.0        NNW      ...             44.0   \n",
       "2         WSW           46.0          W      ...             38.0   \n",
       "3          NE           24.0         SE      ...             45.0   \n",
       "4           W           41.0        ENE      ...             82.0   \n",
       "\n",
       "   Humidity3pm  Pressure9am  Pressure3pm  Cloud9am  Cloud3pm  Temp9am  \\\n",
       "0         22.0       1007.7       1007.1       8.0       NaN     16.9   \n",
       "1         25.0       1010.6       1007.8       NaN       NaN     17.2   \n",
       "2         30.0       1007.6       1008.7       NaN       2.0     21.0   \n",
       "3         16.0       1017.6       1012.8       NaN       NaN     18.1   \n",
       "4         33.0       1010.8       1006.0       7.0       8.0     17.8   \n",
       "\n",
       "   Temp3pm  RainToday  RainTomorrow  \n",
       "0     21.8         No            No  \n",
       "1     24.3         No            No  \n",
       "2     23.2         No            No  \n",
       "3     26.5         No            No  \n",
       "4     29.7         No            No  \n",
       "\n",
       "[5 rows x 23 columns]"
      ]
     },
     "execution_count": 29,
     "metadata": {},
     "output_type": "execute_result"
    }
   ],
   "source": [
    "# Cargamos de los datos del tiempo en australia\n",
    "df_weather = pd.read_csv('https://raw.githubusercontent.com/davidreyblanco/ml-training/master/data/weatherAUS.csv')\n",
    "df_weather.head()"
   ]
  },
  {
   "cell_type": "code",
   "execution_count": 30,
   "metadata": {},
   "outputs": [
    {
     "data": {
      "text/html": [
       "<div>\n",
       "<style scoped>\n",
       "    .dataframe tbody tr th:only-of-type {\n",
       "        vertical-align: middle;\n",
       "    }\n",
       "\n",
       "    .dataframe tbody tr th {\n",
       "        vertical-align: top;\n",
       "    }\n",
       "\n",
       "    .dataframe thead th {\n",
       "        text-align: right;\n",
       "    }\n",
       "</style>\n",
       "<table border=\"1\" class=\"dataframe\">\n",
       "  <thead>\n",
       "    <tr style=\"text-align: right;\">\n",
       "      <th></th>\n",
       "      <th>gender</th>\n",
       "      <th>race/ethnicity</th>\n",
       "      <th>parental level of education</th>\n",
       "      <th>lunch</th>\n",
       "      <th>test preparation course</th>\n",
       "      <th>math score</th>\n",
       "      <th>reading score</th>\n",
       "      <th>writing score</th>\n",
       "    </tr>\n",
       "  </thead>\n",
       "  <tbody>\n",
       "    <tr>\n",
       "      <th>0</th>\n",
       "      <td>female</td>\n",
       "      <td>group B</td>\n",
       "      <td>bachelor's degree</td>\n",
       "      <td>standard</td>\n",
       "      <td>none</td>\n",
       "      <td>72</td>\n",
       "      <td>0.72</td>\n",
       "      <td>74</td>\n",
       "    </tr>\n",
       "    <tr>\n",
       "      <th>1</th>\n",
       "      <td>female</td>\n",
       "      <td>group C</td>\n",
       "      <td>some college</td>\n",
       "      <td>standard</td>\n",
       "      <td>completed</td>\n",
       "      <td>69</td>\n",
       "      <td>0.90</td>\n",
       "      <td>88</td>\n",
       "    </tr>\n",
       "    <tr>\n",
       "      <th>2</th>\n",
       "      <td>female</td>\n",
       "      <td>group B</td>\n",
       "      <td>master's degree</td>\n",
       "      <td>standard</td>\n",
       "      <td>none</td>\n",
       "      <td>90</td>\n",
       "      <td>0.95</td>\n",
       "      <td>93</td>\n",
       "    </tr>\n",
       "    <tr>\n",
       "      <th>3</th>\n",
       "      <td>male</td>\n",
       "      <td>group A</td>\n",
       "      <td>associate's degree</td>\n",
       "      <td>free/reduced</td>\n",
       "      <td>none</td>\n",
       "      <td>47</td>\n",
       "      <td>0.57</td>\n",
       "      <td>44</td>\n",
       "    </tr>\n",
       "    <tr>\n",
       "      <th>4</th>\n",
       "      <td>male</td>\n",
       "      <td>group C</td>\n",
       "      <td>some college</td>\n",
       "      <td>standard</td>\n",
       "      <td>none</td>\n",
       "      <td>76</td>\n",
       "      <td>0.78</td>\n",
       "      <td>75</td>\n",
       "    </tr>\n",
       "  </tbody>\n",
       "</table>\n",
       "</div>"
      ],
      "text/plain": [
       "   gender race/ethnicity parental level of education         lunch  \\\n",
       "0  female        group B           bachelor's degree      standard   \n",
       "1  female        group C                some college      standard   \n",
       "2  female        group B             master's degree      standard   \n",
       "3    male        group A          associate's degree  free/reduced   \n",
       "4    male        group C                some college      standard   \n",
       "\n",
       "  test preparation course  math score  reading score  writing score  \n",
       "0                    none          72           0.72             74  \n",
       "1               completed          69           0.90             88  \n",
       "2                    none          90           0.95             93  \n",
       "3                    none          47           0.57             44  \n",
       "4                    none          76           0.78             75  "
      ]
     },
     "execution_count": 30,
     "metadata": {},
     "output_type": "execute_result"
    }
   ],
   "source": [
    "# Carga de datos de resultados de alumnos (transformamos la escala de la puntuación de lectura)\n",
    "df_students = pd.read_csv('https://raw.githubusercontent.com/davidreyblanco/ml-training/master/data/StudentsPerformance.csv')\n",
    "df_students['reading score'] = df_students['reading score'] / 100\n",
    "df_students.head()"
   ]
  },
  {
   "cell_type": "markdown",
   "metadata": {},
   "source": [
    "## Medidas básicas de distancia\n",
    "\n",
    "De forma intuitiva podemos pensar en medidas de distancia entre variables sencillas como la edad o altura, o niveles de gasto. Para ello vamos a ver las diferencias entre las notas en matemáticas del alumno 1 y el 2 del conjunto de datos de los estudiantes."
   ]
  },
  {
   "cell_type": "code",
   "execution_count": 31,
   "metadata": {},
   "outputs": [
    {
     "name": "stdout",
     "output_type": "stream",
     "text": [
      "Puntos alumno 1: 72\n",
      "Puntos alumno 2: 69\n",
      "Distancia / diferencia en matemáticas: 3\n"
     ]
    }
   ],
   "source": [
    "# Calculamos la distancia como la diferencia en valor absoluto, ¿es una distancia euclídea?\n",
    "puntos_alumno_1 = df_students['math score'][0]\n",
    "puntos_alumno_2 = df_students['math score'][1]\n",
    "print('Puntos alumno 1: '+ str(puntos_alumno_1))\n",
    "print('Puntos alumno 2: '+ str(puntos_alumno_2))\n",
    "print('Distancia / diferencia en matemáticas: '+ str(abs(puntos_alumno_1 - puntos_alumno_2)))"
   ]
  },
  {
   "cell_type": "code",
   "execution_count": 32,
   "metadata": {},
   "outputs": [
    {
     "name": "stdout",
     "output_type": "stream",
     "text": [
      "Puntos alumno 1: 0.72\n",
      "Puntos alumno 2: 0.9\n",
      "Distancia / diferencia en lectura: 0.18000000000000005\n"
     ]
    }
   ],
   "source": [
    "# Ahora lo hacemos con las notas de lectura\n",
    "puntos_alumno_1 = df_students['reading score'][0]\n",
    "puntos_alumno_2 = df_students['reading score'][1]\n",
    "print('Puntos alumno 1: '+ str(puntos_alumno_1))\n",
    "print('Puntos alumno 2: '+ str(puntos_alumno_2))\n",
    "print('Distancia / diferencia en lectura: '+ str(abs(puntos_alumno_1 - puntos_alumno_2)))"
   ]
  },
  {
   "cell_type": "markdown",
   "metadata": {},
   "source": [
    "mmmmm....., ¿es mas parecida la nota en matematicas que en lectura?, ¿y si quisiéramos calcular la diferencia en notas? "
   ]
  },
  {
   "cell_type": "code",
   "execution_count": 33,
   "metadata": {},
   "outputs": [
    {
     "name": "stdout",
     "output_type": "stream",
     "text": [
      "Distancia / total: 17.18\n"
     ]
    }
   ],
   "source": [
    "distancia_notas_math = abs(df_students['math score'][0] - df_students['math score'][1])\n",
    "distancia_notas_reading = abs(df_students['reading score'][0] - df_students['reading score'][1])\n",
    "distancia_notas_writing = abs(df_students['writing score'][0] - df_students['writing score'][1])\n",
    "distancia_notas = distancia_notas_math + distancia_notas_reading + distancia_notas_writing\n",
    "print('Distancia / total: '+ str(distancia_notas))"
   ]
  },
  {
   "cell_type": "markdown",
   "metadata": {},
   "source": [
    "Hemos hecho ya nuestra primera distancia, **¿qué distancia hemos calculado?**, ¿qué pasa si vamos incluyendo más dimensiones en la distancia?"
   ]
  },
  {
   "cell_type": "markdown",
   "metadata": {},
   "source": [
    "## Transformaciones básicas de los datos\n",
    "\n",
    "Sin embargo en los conjuntos de datos tenemos datos de distinta naturaleza, como pueden ser categóricos ordinales e incluso texto, ¿qué podemos hacer con los categóricos para sacar una medida de distancia?.\n",
    "Primero mostramos la distribución de frecuencias con un histograma sobre la variable de notas en lectura, vemos que el rango está entre 0.17 y 1.0"
   ]
  },
  {
   "cell_type": "code",
   "execution_count": 34,
   "metadata": {},
   "outputs": [
    {
     "name": "stdout",
     "output_type": "stream",
     "text": [
      "0.17 1.0\n"
     ]
    },
    {
     "data": {
      "image/png": "[encoded data removed]",
      "text/plain": [
       "<Figure size 432x288 with 1 Axes>"
      ]
     },
     "metadata": {
      "needs_background": "light"
     },
     "output_type": "display_data"
    }
   ],
   "source": [
    "sns.distplot((df_students['reading score']))\n",
    "print(min(df_students['reading score']),max(df_students['reading score']))"
   ]
  },
  {
   "cell_type": "markdown",
   "metadata": {},
   "source": [
    "Hacemos lo mismo con las notas en matemáticas, vemos que el rango de la variable no tiene nada que ver"
   ]
  },
  {
   "cell_type": "code",
   "execution_count": 35,
   "metadata": {},
   "outputs": [
    {
     "name": "stdout",
     "output_type": "stream",
     "text": [
      "0 100\n"
     ]
    },
    {
     "data": {
      "image/png": "[encoded data removed]",
      "text/plain": [
       "<Figure size 432x288 with 1 Axes>"
      ]
     },
     "metadata": {
      "needs_background": "light"
     },
     "output_type": "display_data"
    }
   ],
   "source": [
    "sns.distplot((df_students['math score']))\n",
    "print(min(df_students['math score']),max(df_students['math score']))"
   ]
  },
  {
   "cell_type": "markdown",
   "metadata": {},
   "source": [
    "¿Qué pasa si mezclamos ambas magnitudes?, podríamos mezclar estas distancias ... no parece buena idea"
   ]
  },
  {
   "cell_type": "code",
   "execution_count": 36,
   "metadata": {},
   "outputs": [
    {
     "data": {
      "text/plain": [
       "<matplotlib.axes._subplots.AxesSubplot at 0x7f4ca81fb550>"
      ]
     },
     "execution_count": 36,
     "metadata": {},
     "output_type": "execute_result"
    },
    {
     "data": {
      "image/png": "[encoded data removed]",
      "text/plain": [
       "<Figure size 432x288 with 1 Axes>"
      ]
     },
     "metadata": {
      "needs_background": "light"
     },
     "output_type": "display_data"
    }
   ],
   "source": [
    "sns.distplot([df_students['math score']])\n",
    "sns.distplot([df_students['reading score']])             \n",
    "sns.distplot([df_students['writing score']])    "
   ]
  },
  {
   "cell_type": "markdown",
   "metadata": {},
   "source": [
    "Una solución sería *normalizar* la magnitud y llevar todas las variables a una escala de 0 a 1, dónde 0 es el minimo y 1 es el máximo:\n",
    "    \n",
    "$ x_{normalizada} = \\frac{x - min(x)}{max(x)-min(x)}$\n",
    "\n",
    "*Nota*: siendo estrictos no estamos realizando una normalización\n"
   ]
  },
  {
   "cell_type": "code",
   "execution_count": 37,
   "metadata": {},
   "outputs": [],
   "source": [
    "df_students['norm reading score'] = (df_students['reading score'] - min(df_students['reading score'])) / (max(df_students['reading score']) - min(df_students['reading score']))\n",
    "df_students['norm math score'] = (df_students['math score'] - min(df_students['math score'])) / (max(df_students['math score']) - min(df_students['math score']))\n",
    "df_students['norm writing score'] = (df_students['writing score'] - min(df_students['writing score'])) / (max(df_students['writing score']) - min(df_students['writing score']))"
   ]
  },
  {
   "cell_type": "markdown",
   "metadata": {},
   "source": [
    "Vemos que ahora tiene mejor aspecto"
   ]
  },
  {
   "cell_type": "code",
   "execution_count": 38,
   "metadata": {},
   "outputs": [
    {
     "data": {
      "text/plain": [
       "<matplotlib.axes._subplots.AxesSubplot at 0x7f4ca80ca550>"
      ]
     },
     "execution_count": 38,
     "metadata": {},
     "output_type": "execute_result"
    },
    {
     "data": {
      "image/png": "[encoded data removed]",
      "text/plain": [
       "<Figure size 432x288 with 1 Axes>"
      ]
     },
     "metadata": {
      "needs_background": "light"
     },
     "output_type": "display_data"
    }
   ],
   "source": [
    "sns.distplot([df_students['norm math score']])\n",
    "sns.distplot([df_students['norm reading score']])   \n",
    "sns.distplot([df_students['norm writing score']])   "
   ]
  },
  {
   "cell_type": "markdown",
   "metadata": {},
   "source": [
    "En realidad en scikit learn hay una gran cantidad de utilidades para el preprocesado de variables, lo que hemos hecho es equivalente a el **MaxMinScaler**. Para más información https://scikit-learn.org/stable/modules/preprocessing.html"
   ]
  },
  {
   "cell_type": "code",
   "execution_count": 39,
   "metadata": {},
   "outputs": [],
   "source": [
    "from sklearn import preprocessing\n",
    "features = ['reading score', 'math score', 'writing score']\n",
    "scaler_df = preprocessing.MaxAbsScaler().fit(df_students[features].values)\n",
    "\n",
    "normalized_values = scaler_df.transform(df_students[features].values)\n",
    "\n",
    "normalized_df = pd.DataFrame(normalized_values, columns=features)"
   ]
  },
  {
   "cell_type": "markdown",
   "metadata": {},
   "source": [
    "Vemos que obtenemos exactamente lo mismo"
   ]
  },
  {
   "cell_type": "code",
   "execution_count": 40,
   "metadata": {},
   "outputs": [
    {
     "data": {
      "text/plain": [
       "<matplotlib.axes._subplots.AxesSubplot at 0x7f4ca7fceb70>"
      ]
     },
     "execution_count": 40,
     "metadata": {},
     "output_type": "execute_result"
    },
    {
     "data": {
      "image/png": "[encoded data removed]",
      "text/plain": [
       "<Figure size 432x288 with 1 Axes>"
      ]
     },
     "metadata": {
      "needs_background": "light"
     },
     "output_type": "display_data"
    }
   ],
   "source": [
    "sns.distplot([normalized_df['math score']])\n",
    "sns.distplot([normalized_df['reading score']])   \n",
    "sns.distplot([normalized_df['writing score']])   "
   ]
  },
  {
   "cell_type": "markdown",
   "metadata": {},
   "source": [
    "# Distancias sobre magnitudes numéricas"
   ]
  },
  {
   "cell_type": "markdown",
   "metadata": {},
   "source": [
    "\n",
    "## Distancia euclídea\n",
    "\n",
    "La distancia euclidiana o métrica euclidiana es la distancia \"ordinaria\" (es decir, en línea recta) entre dos puntos, es una medida de distancia e intuitiva que se aplica facilmente a valores numéricos. De forma general la distancia entre la observación p y q, siendo ambos vectores de dimensión $n$, se calcularía como:\n",
    "$$ \\sqrt{\\sum_{i=1}^{n}{(p_i-q_i)^2}}$$\n",
    "Sólo para los amantes del álgebra es una medida aplicable a un [espacio euclídeo](https://es.wikipedia.org/wiki/Espacio_eucl%C3%ADdeo), elementos que por sus propiedades han servido de base para generar gran cantidad de conceptos matemáticos relacionados con la geometría analítica, la topología, el álgebra y el cálculo."
   ]
  },
  {
   "cell_type": "code",
   "execution_count": 41,
   "metadata": {},
   "outputs": [
    {
     "data": {
      "text/html": [
       "<div>\n",
       "<style scoped>\n",
       "    .dataframe tbody tr th:only-of-type {\n",
       "        vertical-align: middle;\n",
       "    }\n",
       "\n",
       "    .dataframe tbody tr th {\n",
       "        vertical-align: top;\n",
       "    }\n",
       "\n",
       "    .dataframe thead th {\n",
       "        text-align: right;\n",
       "    }\n",
       "</style>\n",
       "<table border=\"1\" class=\"dataframe\">\n",
       "  <thead>\n",
       "    <tr style=\"text-align: right;\">\n",
       "      <th></th>\n",
       "      <th>gender</th>\n",
       "      <th>race/ethnicity</th>\n",
       "      <th>parental level of education</th>\n",
       "      <th>lunch</th>\n",
       "      <th>test preparation course</th>\n",
       "      <th>math score</th>\n",
       "      <th>reading score</th>\n",
       "      <th>writing score</th>\n",
       "      <th>norm reading score</th>\n",
       "      <th>norm math score</th>\n",
       "      <th>norm writing score</th>\n",
       "      <th>euclidean</th>\n",
       "    </tr>\n",
       "  </thead>\n",
       "  <tbody>\n",
       "    <tr>\n",
       "      <th>0</th>\n",
       "      <td>female</td>\n",
       "      <td>group B</td>\n",
       "      <td>bachelor's degree</td>\n",
       "      <td>standard</td>\n",
       "      <td>none</td>\n",
       "      <td>72</td>\n",
       "      <td>0.72</td>\n",
       "      <td>74</td>\n",
       "      <td>0.662651</td>\n",
       "      <td>0.72</td>\n",
       "      <td>0.711111</td>\n",
       "      <td>0.268568</td>\n",
       "    </tr>\n",
       "    <tr>\n",
       "      <th>1</th>\n",
       "      <td>female</td>\n",
       "      <td>group C</td>\n",
       "      <td>some college</td>\n",
       "      <td>standard</td>\n",
       "      <td>completed</td>\n",
       "      <td>69</td>\n",
       "      <td>0.90</td>\n",
       "      <td>88</td>\n",
       "      <td>0.879518</td>\n",
       "      <td>0.69</td>\n",
       "      <td>0.866667</td>\n",
       "      <td>0.225423</td>\n",
       "    </tr>\n",
       "    <tr>\n",
       "      <th>2</th>\n",
       "      <td>female</td>\n",
       "      <td>group B</td>\n",
       "      <td>master's degree</td>\n",
       "      <td>standard</td>\n",
       "      <td>none</td>\n",
       "      <td>90</td>\n",
       "      <td>0.95</td>\n",
       "      <td>93</td>\n",
       "      <td>0.939759</td>\n",
       "      <td>0.90</td>\n",
       "      <td>0.922222</td>\n",
       "      <td>0.831222</td>\n",
       "    </tr>\n",
       "    <tr>\n",
       "      <th>3</th>\n",
       "      <td>male</td>\n",
       "      <td>group A</td>\n",
       "      <td>associate's degree</td>\n",
       "      <td>free/reduced</td>\n",
       "      <td>none</td>\n",
       "      <td>47</td>\n",
       "      <td>0.57</td>\n",
       "      <td>44</td>\n",
       "      <td>0.481928</td>\n",
       "      <td>0.47</td>\n",
       "      <td>0.377778</td>\n",
       "      <td>0.516485</td>\n",
       "    </tr>\n",
       "    <tr>\n",
       "      <th>4</th>\n",
       "      <td>male</td>\n",
       "      <td>group C</td>\n",
       "      <td>some college</td>\n",
       "      <td>standard</td>\n",
       "      <td>none</td>\n",
       "      <td>76</td>\n",
       "      <td>0.78</td>\n",
       "      <td>75</td>\n",
       "      <td>0.734940</td>\n",
       "      <td>0.76</td>\n",
       "      <td>0.722222</td>\n",
       "      <td>0.0850887</td>\n",
       "    </tr>\n",
       "  </tbody>\n",
       "</table>\n",
       "</div>"
      ],
      "text/plain": [
       "   gender race/ethnicity parental level of education         lunch  \\\n",
       "0  female        group B           bachelor's degree      standard   \n",
       "1  female        group C                some college      standard   \n",
       "2  female        group B             master's degree      standard   \n",
       "3    male        group A          associate's degree  free/reduced   \n",
       "4    male        group C                some college      standard   \n",
       "\n",
       "  test preparation course  math score  reading score  writing score  \\\n",
       "0                    none          72           0.72             74   \n",
       "1               completed          69           0.90             88   \n",
       "2                    none          90           0.95             93   \n",
       "3                    none          47           0.57             44   \n",
       "4                    none          76           0.78             75   \n",
       "\n",
       "   norm reading score  norm math score  norm writing score  euclidean  \n",
       "0            0.662651             0.72            0.711111   0.268568  \n",
       "1            0.879518             0.69            0.866667   0.225423  \n",
       "2            0.939759             0.90            0.922222   0.831222  \n",
       "3            0.481928             0.47            0.377778   0.516485  \n",
       "4            0.734940             0.76            0.722222  0.0850887  "
      ]
     },
     "execution_count": 41,
     "metadata": {},
     "output_type": "execute_result"
    }
   ],
   "source": [
    "df_students['euclidean'] = None\n",
    "for i in range(0,10):\n",
    "    d2 = np.square( df_students['norm reading score'][i] - df_students['norm reading score'][i+1] )  \n",
    "    d2 += np.square( df_students['norm math score'][i] - df_students['norm math score'][i+1] )  \n",
    "    d2 += np.square( df_students['norm writing score'][i] - df_students['norm writing score'][i+1] )  \n",
    "    df_students['euclidean'][i] = np.sqrt( d2 )\n",
    "df_students.head()"
   ]
  },
  {
   "cell_type": "markdown",
   "metadata": {},
   "source": [
    "## Distancia manhattan\n",
    "\n",
    "La geometría del taxi (taxicab) es una forma de geometría en la que la métrica habitual de la geometría euclidiana se reemplaza por una nueva métrica en la que la distancia entre dos puntos es la suma de las diferencias (absolutas) de sus coordenadas.\n",
    "La distancia de Manhattan, también conocida como *distancia rectilínea*, distancia de **bloque** de la ciudad, métrica de taxi se define como la suma de las longitudes de las proyecciones del segmento de línea entre los puntos en los ejes de coordenadas.\n",
    "En ajedrez, la distancia entre casillas del tablero de ajedrez para torres se mide en distancia de Manhattan.\n",
    "\n",
    "Se calula como:\n",
    "$$ \\sum_{i=1}^{n}{|p_i-q_i|}$$"
   ]
  },
  {
   "cell_type": "code",
   "execution_count": 42,
   "metadata": {},
   "outputs": [],
   "source": [
    "df_students['manhattan'] = None\n",
    "for i in range(0,10):\n",
    "    d2 = abs( df_students['norm reading score'][i] - df_students['norm reading score'][i+1] )  \n",
    "    d2 += abs( df_students['norm math score'][i] - df_students['norm math score'][i+1] )  \n",
    "    d2 += abs( df_students['norm writing score'][i] - df_students['norm writing score'][i+1] )  \n",
    "    df_students['manhattan'][i] = np.sqrt( d2 )\n"
   ]
  },
  {
   "cell_type": "markdown",
   "metadata": {},
   "source": [
    "Comparamos ambas medidas, vemos como no existe una relación constante en ambas medidas, ¿qué pasa en la observación número 4?, por qué la proporción es aproximadamente 4.5 y la media es "
   ]
  },
  {
   "cell_type": "code",
   "execution_count": 43,
   "metadata": {},
   "outputs": [
    {
     "data": {
      "text/html": [
       "<div>\n",
       "<style scoped>\n",
       "    .dataframe tbody tr th:only-of-type {\n",
       "        vertical-align: middle;\n",
       "    }\n",
       "\n",
       "    .dataframe tbody tr th {\n",
       "        vertical-align: top;\n",
       "    }\n",
       "\n",
       "    .dataframe thead th {\n",
       "        text-align: right;\n",
       "    }\n",
       "</style>\n",
       "<table border=\"1\" class=\"dataframe\">\n",
       "  <thead>\n",
       "    <tr style=\"text-align: right;\">\n",
       "      <th></th>\n",
       "      <th>norm reading score</th>\n",
       "      <th>norm math score</th>\n",
       "      <th>norm writing score</th>\n",
       "      <th>euclidean</th>\n",
       "      <th>manhattan</th>\n",
       "      <th>ratio manhattan/euclidean</th>\n",
       "    </tr>\n",
       "  </thead>\n",
       "  <tbody>\n",
       "    <tr>\n",
       "      <th>0</th>\n",
       "      <td>0.662651</td>\n",
       "      <td>0.72</td>\n",
       "      <td>0.711111</td>\n",
       "      <td>0.268568</td>\n",
       "      <td>0.634368</td>\n",
       "      <td>2.36204</td>\n",
       "    </tr>\n",
       "    <tr>\n",
       "      <th>1</th>\n",
       "      <td>0.879518</td>\n",
       "      <td>0.69</td>\n",
       "      <td>0.866667</td>\n",
       "      <td>0.225423</td>\n",
       "      <td>0.570786</td>\n",
       "      <td>2.53207</td>\n",
       "    </tr>\n",
       "    <tr>\n",
       "      <th>2</th>\n",
       "      <td>0.939759</td>\n",
       "      <td>0.90</td>\n",
       "      <td>0.922222</td>\n",
       "      <td>0.831222</td>\n",
       "      <td>1.19678</td>\n",
       "      <td>1.43978</td>\n",
       "    </tr>\n",
       "    <tr>\n",
       "      <th>3</th>\n",
       "      <td>0.481928</td>\n",
       "      <td>0.47</td>\n",
       "      <td>0.377778</td>\n",
       "      <td>0.516485</td>\n",
       "      <td>0.942049</td>\n",
       "      <td>1.82396</td>\n",
       "    </tr>\n",
       "    <tr>\n",
       "      <th>4</th>\n",
       "      <td>0.734940</td>\n",
       "      <td>0.76</td>\n",
       "      <td>0.722222</td>\n",
       "      <td>0.0850887</td>\n",
       "      <td>0.378912</td>\n",
       "      <td>4.45314</td>\n",
       "    </tr>\n",
       "    <tr>\n",
       "      <th>5</th>\n",
       "      <td>0.795181</td>\n",
       "      <td>0.71</td>\n",
       "      <td>0.755556</td>\n",
       "      <td>0.27203</td>\n",
       "      <td>0.685663</td>\n",
       "      <td>2.52054</td>\n",
       "    </tr>\n",
       "    <tr>\n",
       "      <th>6</th>\n",
       "      <td>0.939759</td>\n",
       "      <td>0.88</td>\n",
       "      <td>0.911111</td>\n",
       "      <td>0.984733</td>\n",
       "      <td>1.30207</td>\n",
       "      <td>1.32226</td>\n",
       "    </tr>\n",
       "    <tr>\n",
       "      <th>7</th>\n",
       "      <td>0.313253</td>\n",
       "      <td>0.40</td>\n",
       "      <td>0.322222</td>\n",
       "      <td>0.467338</td>\n",
       "      <td>0.896729</td>\n",
       "      <td>1.9188</td>\n",
       "    </tr>\n",
       "    <tr>\n",
       "      <th>8</th>\n",
       "      <td>0.566265</td>\n",
       "      <td>0.64</td>\n",
       "      <td>0.633333</td>\n",
       "      <td>0.324964</td>\n",
       "      <td>0.70504</td>\n",
       "      <td>2.1696</td>\n",
       "    </tr>\n",
       "    <tr>\n",
       "      <th>9</th>\n",
       "      <td>0.518072</td>\n",
       "      <td>0.38</td>\n",
       "      <td>0.444444</td>\n",
       "      <td>0.213821</td>\n",
       "      <td>0.542689</td>\n",
       "      <td>2.53805</td>\n",
       "    </tr>\n",
       "  </tbody>\n",
       "</table>\n",
       "</div>"
      ],
      "text/plain": [
       "   norm reading score  norm math score  norm writing score  euclidean  \\\n",
       "0            0.662651             0.72            0.711111   0.268568   \n",
       "1            0.879518             0.69            0.866667   0.225423   \n",
       "2            0.939759             0.90            0.922222   0.831222   \n",
       "3            0.481928             0.47            0.377778   0.516485   \n",
       "4            0.734940             0.76            0.722222  0.0850887   \n",
       "5            0.795181             0.71            0.755556    0.27203   \n",
       "6            0.939759             0.88            0.911111   0.984733   \n",
       "7            0.313253             0.40            0.322222   0.467338   \n",
       "8            0.566265             0.64            0.633333   0.324964   \n",
       "9            0.518072             0.38            0.444444   0.213821   \n",
       "\n",
       "  manhattan ratio manhattan/euclidean  \n",
       "0  0.634368                   2.36204  \n",
       "1  0.570786                   2.53207  \n",
       "2   1.19678                   1.43978  \n",
       "3  0.942049                   1.82396  \n",
       "4  0.378912                   4.45314  \n",
       "5  0.685663                   2.52054  \n",
       "6   1.30207                   1.32226  \n",
       "7  0.896729                    1.9188  \n",
       "8   0.70504                    2.1696  \n",
       "9  0.542689                   2.53805  "
      ]
     },
     "execution_count": 43,
     "metadata": {},
     "output_type": "execute_result"
    }
   ],
   "source": [
    "df_students['ratio manhattan/euclidean'] = df_students['manhattan'] / df_students['euclidean']\n",
    "df_students[['norm reading score',\n",
    "             'norm math score',\n",
    "             'norm writing score',\n",
    "             'euclidean', \n",
    "             'manhattan',\n",
    "             'ratio manhattan/euclidean']].head(10)"
   ]
  },
  {
   "cell_type": "markdown",
   "metadata": {},
   "source": [
    "Distancias sobre atributos no numéricos (manhattan y euclídea)\n"
   ]
  },
  {
   "cell_type": "markdown",
   "metadata": {},
   "source": [
    "## Distancia coseno\n",
    "En este ejemplo vamos a calcular la distancia coseno dos vectores, como adelantamos es una medida utilizada para comparar documentos o incluso diferencias entre variables dummy."
   ]
  },
  {
   "cell_type": "code",
   "execution_count": 44,
   "metadata": {},
   "outputs": [],
   "source": [
    "def cosine_similarity(x,y):    \n",
    "    x_norm = math.sqrt(sum([x_i*x_i for x_i in x]))\n",
    "    y_norm = math.sqrt(sum([y_i*y_i for y_i in y]))\n",
    "    numerator = sum(x_i*y_i for x_i,y_i in zip(x,y)) # x * y\n",
    "    denominator = x_norm * y_norm # |x| * |y|    \n",
    "    return round(numerator/float(denominator),5)\n",
    "\n",
    "# Calculamos la disimilitud coseno como 1 - sim_coseno\n",
    "def cosine_disimilarity(x,y):        \n",
    "    return 1 - cosine_similarity(x,y)\n"
   ]
  },
  {
   "cell_type": "code",
   "execution_count": 45,
   "metadata": {},
   "outputs": [
    {
     "name": "stdout",
     "output_type": "stream",
     "text": [
      "0.97228\n",
      "1.0\n",
      "0.0\n"
     ]
    }
   ],
   "source": [
    "# Ejemplos\n",
    "print(cosine_similarity([3, 45, 7, 2], [2, 54, 13, 15]))\n",
    "\n",
    "# Se hace máxima cuando son el mismo vector\n",
    "print(cosine_similarity([2, 54, 13, 15], [2, 54, 13, 15]))\n",
    "\n",
    "# Se hace mínima cuando son ortogonales\n",
    "print(cosine_similarity([0, 1,0], [1,0,1]))"
   ]
  },
  {
   "cell_type": "markdown",
   "metadata": {},
   "source": [
    "Preguntas:\n",
    "\n",
    "*pregunta 1)* ¿puede ser la distancia coseno negativa?\n",
    "\n",
    "*pregunta 2)* Ejercicio rápido, calcular las distancia coseno, euclídea y manhattan entre estos dos vectores, ¿alguna conclusión?\n",
    "\n",
    "| perro| gato | elefante |\n",
    "| -----------| ----------- | ----------- |\n",
    "| 1| 0 | 0 |\n",
    "| 0| 1 | 0 |       "
   ]
  },
  {
   "cell_type": "markdown",
   "metadata": {},
   "source": [
    "## Distancia hamming\n"
   ]
  },
  {
   "cell_type": "code",
   "execution_count": 46,
   "metadata": {},
   "outputs": [
    {
     "name": "stdout",
     "output_type": "stream",
     "text": [
      "x = ['h', 'o', 'l', 'a']\n",
      "y = ['b', 'o', 'l', 'o']\n",
      "0.5\n",
      "x = ['h', 'o', 'l', 'a']\n",
      "y = ['b', 'o', 'l', 'o']\n",
      "2\n"
     ]
    }
   ],
   "source": [
    "def hamming_distance(x,y, normalized = False):    \n",
    "    list_x = list(x)\n",
    "    list_y = list(y)\n",
    "    print('x = ' + str(list_x))\n",
    "    print('y = ' + str(list_y))\n",
    "    distance = sum(x_i == y_i  for x_i,y_i in zip(list_x,list_y)) # x * y\n",
    "    if normalized:\n",
    "        distance = distance / len(x) \n",
    "    return distance\n",
    "print(hamming_distance('hola','bolo', normalized = True)) # Valor de 0 a 1\n",
    "print(hamming_distance('hola','bolo', normalized = False))# Valor de 0 a longitud de la cadena"
   ]
  },
  {
   "cell_type": "code",
   "execution_count": 47,
   "metadata": {},
   "outputs": [
    {
     "name": "stdout",
     "output_type": "stream",
     "text": [
      "x = ['c', 'a', 'r', 'o', 'l', 'i', 'n', 'a']\n",
      "y = ['k', 'a', 't', 'h', 'r', 'i', 'n', 'a']\n",
      "0.5\n",
      "x = ['c', 'a', 'r', 'o', 'l', 'i', 'n', 'a']\n",
      "y = ['k', 'r', 'i', 's', 't', 'i', 'n', 'a']\n",
      "0.375\n",
      "x = ['c', 'a', 'r', 'o', 'l', 'i', 'n', 'a']\n",
      "y = ['k', 'r', 'i', 's', 't', 'o', 'n', 'a']\n",
      "0.25\n",
      "x = ['c', 'a', 'r', 'o', 'l', 'i', 'n', 'a']\n",
      "y = ['k', 'r', 'i', 's', 'n', 'a', 'l', 'd']\n",
      "0.0\n",
      "x = ['c', 'a', 'r', 'o', 'l', 'i', 'n', 'a']\n",
      "y = ['c', 'a', 'l', 'o', 'r', 'i', 'n', 'a']\n",
      "0.75\n",
      "x = ['c', 'a', 'r', 'o', 'l', 'i', 'n', 'a']\n",
      "y = ['c', 'a', 'l', 'o', 'r', 'e', 't', 't']\n",
      "0.375\n"
     ]
    }
   ],
   "source": [
    "# Partimos de una lista de 3 palabras\n",
    "input_str = ['carolina', 'kathrina', 'kristina', 'kristona',  'krisnald','calorina','calorett']\n",
    "# Partimos de una lista de 3 palabras\n",
    "for i in range(1,7):\n",
    "    print(hamming_distance(input_str[0],input_str[i], normalized = True)) # Valor de 0 a 1"
   ]
  },
  {
   "cell_type": "markdown",
   "metadata": {},
   "source": [
    "# Distancia Jaccard"
   ]
  },
  {
   "cell_type": "code",
   "execution_count": 48,
   "metadata": {},
   "outputs": [
    {
     "name": "stdout",
     "output_type": "stream",
     "text": [
      "------------------------------------------------\n",
      "x = {'t', 'k', 'h', 'r', 'a', 'i', 'n'}\n",
      "y = {'t', 'k', 'r', 'i', 'a', 's', 'n'}\n",
      "intersection x,y = {'t', 'k', 'r', 'i', 'a', 'n'}\n",
      "union x,y = {'t', 'h', 'k', 'r', 'a', 'i', 's', 'n'}\n"
     ]
    },
    {
     "data": {
      "text/plain": [
       "0.25"
      ]
     },
     "execution_count": 48,
     "metadata": {},
     "output_type": "execute_result"
    }
   ],
   "source": [
    "def jaccard_similarity(x,y):    \n",
    "    set_x = set(x)\n",
    "    set_y = set(y)\n",
    "    print('------------------------------------------------')\n",
    "    print('x = ' + str(set_x))\n",
    "    print('y = ' + str(set_y))\n",
    "    print('intersection x,y = ' + str(set_x.intersection(set_y)))\n",
    "    print('union x,y = ' + str(set_x.union(set_y)))\n",
    "    distance = len(set_x.intersection(set_y)) / len(set_x.union(set_y))\n",
    "    return distance\n",
    "def jaccard_distance(x,y):  \n",
    "    return 1 - jaccard_similarity(x,y)  \n",
    "jaccard_distance('kathrina', 'kristina')"
   ]
  },
  {
   "cell_type": "code",
   "execution_count": 49,
   "metadata": {},
   "outputs": [
    {
     "name": "stdout",
     "output_type": "stream",
     "text": [
      "------------------------------------------------\n",
      "x = {'l', 'r', 'o', 'c', 'a', 'i', 'n'}\n",
      "y = {'t', 'k', 'h', 'r', 'a', 'i', 'n'}\n",
      "intersection x,y = {'a', 'i', 'r', 'n'}\n",
      "union x,y = {'t', 'l', 'k', 'h', 'r', 'o', 'c', 'a', 'i', 'n'}\n",
      "0.6\n",
      "------------------------------------------------\n",
      "x = {'l', 'r', 'o', 'c', 'a', 'i', 'n'}\n",
      "y = {'t', 'k', 'r', 'i', 'a', 's', 'n'}\n",
      "intersection x,y = {'i', 'a', 'r', 'n'}\n",
      "union x,y = {'t', 'l', 'k', 'r', 'o', 'c', 'a', 'i', 's', 'n'}\n",
      "0.6\n",
      "------------------------------------------------\n",
      "x = {'l', 'r', 'o', 'c', 'a', 'i', 'n'}\n",
      "y = {'t', 'k', 'r', 'i', 'o', 'a', 's', 'n'}\n",
      "intersection x,y = {'r', 'o', 'a', 'i', 'n'}\n",
      "union x,y = {'t', 'l', 'k', 'r', 'o', 'c', 'a', 'i', 's', 'n'}\n",
      "0.5\n",
      "------------------------------------------------\n",
      "x = {'l', 'r', 'o', 'c', 'a', 'i', 'n'}\n",
      "y = {'l', 'k', 'r', 'i', 'a', 'd', 's', 'n'}\n",
      "intersection x,y = {'l', 'r', 'a', 'i', 'n'}\n",
      "union x,y = {'l', 'k', 'r', 'o', 'c', 'a', 'i', 'd', 's', 'n'}\n",
      "0.5\n",
      "------------------------------------------------\n",
      "x = {'l', 'r', 'o', 'c', 'a', 'i', 'n'}\n",
      "y = {'l', 'r', 'c', 'a', 'o', 'i', 'n'}\n",
      "intersection x,y = {'l', 'r', 'o', 'c', 'a', 'i', 'n'}\n",
      "union x,y = {'l', 'r', 'o', 'c', 'a', 'i', 'n'}\n",
      "0.0\n",
      "------------------------------------------------\n",
      "x = {'l', 'r', 'o', 'c', 'a', 'i', 'n'}\n",
      "y = {'t', 'l', 'r', 'c', 'a', 'o', 'e'}\n",
      "intersection x,y = {'l', 'r', 'o', 'c', 'a'}\n",
      "union x,y = {'t', 'l', 'r', 'o', 'c', 'a', 'i', 'n', 'e'}\n",
      "0.4444444444444444\n"
     ]
    }
   ],
   "source": [
    "# Partimos de una lista de 3 palabras\n",
    "input_str = ['carolina', 'kathrina', 'kristina', 'kristona',  'krisnald','calorina','calorett']\n",
    "# Partimos de una lista de 3 palabras\n",
    "for i in range(1,7):\n",
    "    print(jaccard_distance(input_str[0],input_str[i])) # Valor de 0 a 1"
   ]
  },
  {
   "cell_type": "markdown",
   "metadata": {},
   "source": [
    "¿Qué diferencia vemos entre jaccard y hamming?"
   ]
  },
  {
   "cell_type": "markdown",
   "metadata": {},
   "source": [
    "# Uso de distancias con scikit learn\n",
    "Como casi siempre, no tenemos por qué reinventar la rueda, así que podemos calcular las distancias con scikitlearn, existen [distintas métricas como podemos ver en la documentación](https://scikit-learn.org/stable/modules/generated/sklearn.neighbors.DistanceMetric.html#sklearn.neighbors.DistanceMetric):\n",
    "\n",
    "* Sobre espacios vectoriales de valor real: manhattan, euclidea, minkowski\n",
    "* Sobre espacios vectoriales bidimensionales: semiverseno\n",
    "* Sobre espacios vectoriales con valores enteros: hamming\n",
    "* Sobre espacios vectoriales con valores booleanos: jaccard\n",
    "* Distancia definida por el usuario\n",
    "\n",
    "En los siguientes ejemplo calculamos las métricas sobre un par de vectores, la función pairwise calcula la distancia entre cada par de vectores:\n"
   ]
  },
  {
   "cell_type": "code",
   "execution_count": 50,
   "metadata": {},
   "outputs": [
    {
     "data": {
      "text/plain": [
       "array([[0.        , 5.19615242],\n",
       "       [5.19615242, 0.        ]])"
      ]
     },
     "execution_count": 50,
     "metadata": {},
     "output_type": "execute_result"
    }
   ],
   "source": [
    "from sklearn.neighbors import DistanceMetric\n",
    "dist = DistanceMetric.get_metric('euclidean')\n",
    "X = [[0, 1, 2],[3, 4, 5]]\n",
    "dist.pairwise(X)"
   ]
  },
  {
   "cell_type": "code",
   "execution_count": 51,
   "metadata": {},
   "outputs": [
    {
     "data": {
      "text/plain": [
       "array([[0., 9.],\n",
       "       [9., 0.]])"
      ]
     },
     "execution_count": 51,
     "metadata": {},
     "output_type": "execute_result"
    }
   ],
   "source": [
    "from sklearn.neighbors import DistanceMetric\n",
    "dist = DistanceMetric.get_metric('manhattan')\n",
    "X = [[0, 1, 2],[3, 4, 5]]\n",
    "dist.pairwise(X)"
   ]
  },
  {
   "cell_type": "markdown",
   "metadata": {},
   "source": [
    "Vamos a diseñar nuestra propia función de distancia"
   ]
  },
  {
   "cell_type": "code",
   "execution_count": 52,
   "metadata": {},
   "outputs": [
    {
     "data": {
      "text/plain": [
       "array([[0.        , 2.33333333],\n",
       "       [2.33333333, 0.        ]])"
      ]
     },
     "execution_count": 52,
     "metadata": {},
     "output_type": "execute_result"
    }
   ],
   "source": [
    "from sklearn.neighbors import DistanceMetric\n",
    "# Definimos la distancia como la diferencia en valor absoluto de los máximos de cada vectos\n",
    "def my_distance(x,y):\n",
    "    result = abs(max(x) - max(y))/len(x)\n",
    "    return result\n",
    "\n",
    "dist = DistanceMetric.get_metric('pyfunc', func=my_distance)\n",
    "\n",
    "X = [[0, 1, 12],[3, 4, 5]]# maximos -> 2 y 5\n",
    "dist.pairwise(X)"
   ]
  },
  {
   "cell_type": "markdown",
   "metadata": {},
   "source": [
    "# Referencias y lecturas interesantes\n",
    "\n",
    "[Resumen de 4 medidas de distancia](https://machinelearningmastery.com/distance-measures-for-machine-learning/)\n",
    "\n",
    "[Importance of Distance Metrics in Machine Learning Modelling](https://towardsdatascience.com/importance-of-distance-metrics-in-machine-learning-modelling-e51395ffe60d)\n",
    "\n",
    "[Similarity and Distance Metrics for Data Science](https://medium.com/dataseries/similarity-and-distance-metrics-for-data-science-and-machine-learning-e5121b3956f8)\n",
    "\n",
    "[Calculate Similarity — the most relevant Metrics in a Nutshell](https://towardsdatascience.com/calculate-similarity-the-most-relevant-metrics-in-a-nutshell-9a43564f533e?gi=66791a353fc0)\n",
    "\n",
    "[5 similarity metrics implementation in python](https://dataaspirant.com/five-most-popular-similarity-measures-implementation-in-python/)"
   ]
  },
  {
   "cell_type": "markdown",
   "metadata": {},
   "source": [
    "# Ejercicios propuestos para profundizar\n",
    "Estos ejercicios no son obligatorios pero son recomendables para reforzar o profundizar conocimientos"
   ]
  },
  {
   "cell_type": "markdown",
   "metadata": {},
   "source": [
    "## Ejercicio 1\n",
    "Tenemos datos de programas de Neflix ([el set procede de Kaggle ](https://www.kaggle.com/shivamb/netflix-shows)), Este conjunto de datos consta de programas de televisión y películas disponibles en Netflix a partir de 2019. El conjunto de datos se recopila de Flixable, que es un motor de búsqueda de Netflix de terceros. En 2018, publicaron un informe interesante que muestra que la cantidad de programas de televisión en Netflix casi se ha triplicado desde 2010. La cantidad de películas del servicio de transmisión ha disminuido en más de 2.000 títulos desde 2010, mientras que la cantidad de programas de televisión casi se ha triplicado. Será interesante explorar qué otros conocimientos se pueden obtener del mismo conjunto de datos.\n",
    "       \n",
    "*Pregunta 1)*¿Podriamos desarrollar un algoritmo de distancia que nos permita comparar titulos entre si teniendo en cuenta su diferencia en estos campos?:\n",
    "\n",
    "* Tipo\n",
    "* Título\n",
    "* Año de publicación"
   ]
  },
  {
   "cell_type": "code",
   "execution_count": 53,
   "metadata": {},
   "outputs": [
    {
     "data": {
      "text/html": [
       "<div>\n",
       "<style scoped>\n",
       "    .dataframe tbody tr th:only-of-type {\n",
       "        vertical-align: middle;\n",
       "    }\n",
       "\n",
       "    .dataframe tbody tr th {\n",
       "        vertical-align: top;\n",
       "    }\n",
       "\n",
       "    .dataframe thead th {\n",
       "        text-align: right;\n",
       "    }\n",
       "</style>\n",
       "<table border=\"1\" class=\"dataframe\">\n",
       "  <thead>\n",
       "    <tr style=\"text-align: right;\">\n",
       "      <th></th>\n",
       "      <th>show_id</th>\n",
       "      <th>type</th>\n",
       "      <th>title</th>\n",
       "      <th>director</th>\n",
       "      <th>cast</th>\n",
       "      <th>country</th>\n",
       "      <th>date_added</th>\n",
       "      <th>release_year</th>\n",
       "      <th>rating</th>\n",
       "      <th>duration</th>\n",
       "      <th>listed_in</th>\n",
       "      <th>description</th>\n",
       "    </tr>\n",
       "  </thead>\n",
       "  <tbody>\n",
       "    <tr>\n",
       "      <th>0</th>\n",
       "      <td>s1</td>\n",
       "      <td>TV Show</td>\n",
       "      <td>3%</td>\n",
       "      <td>NaN</td>\n",
       "      <td>João Miguel, Bianca Comparato, Michel Gomes, R...</td>\n",
       "      <td>Brazil</td>\n",
       "      <td>August 14, 2020</td>\n",
       "      <td>2020</td>\n",
       "      <td>TV-MA</td>\n",
       "      <td>4 Seasons</td>\n",
       "      <td>International TV Shows, TV Dramas, TV Sci-Fi &amp;...</td>\n",
       "      <td>In a future where the elite inhabit an island ...</td>\n",
       "    </tr>\n",
       "    <tr>\n",
       "      <th>1</th>\n",
       "      <td>s2</td>\n",
       "      <td>Movie</td>\n",
       "      <td>7:19</td>\n",
       "      <td>Jorge Michel Grau</td>\n",
       "      <td>Demián Bichir, Héctor Bonilla, Oscar Serrano, ...</td>\n",
       "      <td>Mexico</td>\n",
       "      <td>December 23, 2016</td>\n",
       "      <td>2016</td>\n",
       "      <td>TV-MA</td>\n",
       "      <td>93 min</td>\n",
       "      <td>Dramas, International Movies</td>\n",
       "      <td>After a devastating earthquake hits Mexico Cit...</td>\n",
       "    </tr>\n",
       "    <tr>\n",
       "      <th>2</th>\n",
       "      <td>s3</td>\n",
       "      <td>Movie</td>\n",
       "      <td>23:59</td>\n",
       "      <td>Gilbert Chan</td>\n",
       "      <td>Tedd Chan, Stella Chung, Henley Hii, Lawrence ...</td>\n",
       "      <td>Singapore</td>\n",
       "      <td>December 20, 2018</td>\n",
       "      <td>2011</td>\n",
       "      <td>R</td>\n",
       "      <td>78 min</td>\n",
       "      <td>Horror Movies, International Movies</td>\n",
       "      <td>When an army recruit is found dead, his fellow...</td>\n",
       "    </tr>\n",
       "    <tr>\n",
       "      <th>3</th>\n",
       "      <td>s4</td>\n",
       "      <td>Movie</td>\n",
       "      <td>9</td>\n",
       "      <td>Shane Acker</td>\n",
       "      <td>Elijah Wood, John C. Reilly, Jennifer Connelly...</td>\n",
       "      <td>United States</td>\n",
       "      <td>November 16, 2017</td>\n",
       "      <td>2009</td>\n",
       "      <td>PG-13</td>\n",
       "      <td>80 min</td>\n",
       "      <td>Action &amp; Adventure, Independent Movies, Sci-Fi...</td>\n",
       "      <td>In a postapocalyptic world, rag-doll robots hi...</td>\n",
       "    </tr>\n",
       "    <tr>\n",
       "      <th>4</th>\n",
       "      <td>s5</td>\n",
       "      <td>Movie</td>\n",
       "      <td>21</td>\n",
       "      <td>Robert Luketic</td>\n",
       "      <td>Jim Sturgess, Kevin Spacey, Kate Bosworth, Aar...</td>\n",
       "      <td>United States</td>\n",
       "      <td>January 1, 2020</td>\n",
       "      <td>2008</td>\n",
       "      <td>PG-13</td>\n",
       "      <td>123 min</td>\n",
       "      <td>Dramas</td>\n",
       "      <td>A brilliant group of students become card-coun...</td>\n",
       "    </tr>\n",
       "  </tbody>\n",
       "</table>\n",
       "</div>"
      ],
      "text/plain": [
       "  show_id     type  title           director  \\\n",
       "0      s1  TV Show     3%                NaN   \n",
       "1      s2    Movie   7:19  Jorge Michel Grau   \n",
       "2      s3    Movie  23:59       Gilbert Chan   \n",
       "3      s4    Movie      9        Shane Acker   \n",
       "4      s5    Movie     21     Robert Luketic   \n",
       "\n",
       "                                                cast        country  \\\n",
       "0  João Miguel, Bianca Comparato, Michel Gomes, R...         Brazil   \n",
       "1  Demián Bichir, Héctor Bonilla, Oscar Serrano, ...         Mexico   \n",
       "2  Tedd Chan, Stella Chung, Henley Hii, Lawrence ...      Singapore   \n",
       "3  Elijah Wood, John C. Reilly, Jennifer Connelly...  United States   \n",
       "4  Jim Sturgess, Kevin Spacey, Kate Bosworth, Aar...  United States   \n",
       "\n",
       "          date_added  release_year rating   duration  \\\n",
       "0    August 14, 2020          2020  TV-MA  4 Seasons   \n",
       "1  December 23, 2016          2016  TV-MA     93 min   \n",
       "2  December 20, 2018          2011      R     78 min   \n",
       "3  November 16, 2017          2009  PG-13     80 min   \n",
       "4    January 1, 2020          2008  PG-13    123 min   \n",
       "\n",
       "                                           listed_in  \\\n",
       "0  International TV Shows, TV Dramas, TV Sci-Fi &...   \n",
       "1                       Dramas, International Movies   \n",
       "2                Horror Movies, International Movies   \n",
       "3  Action & Adventure, Independent Movies, Sci-Fi...   \n",
       "4                                             Dramas   \n",
       "\n",
       "                                         description  \n",
       "0  In a future where the elite inhabit an island ...  \n",
       "1  After a devastating earthquake hits Mexico Cit...  \n",
       "2  When an army recruit is found dead, his fellow...  \n",
       "3  In a postapocalyptic world, rag-doll robots hi...  \n",
       "4  A brilliant group of students become card-coun...  "
      ]
     },
     "execution_count": 53,
     "metadata": {},
     "output_type": "execute_result"
    }
   ],
   "source": [
    "## Carga del dataset\n",
    "df_netflix = pd.read_csv('https://raw.githubusercontent.com/davidreyblanco/ml-training/master/data/netflix_titles.csv')\n",
    "df_netflix.head()"
   ]
  },
  {
   "cell_type": "markdown",
   "metadata": {},
   "source": [
    "## Ejercicio 2\n",
    "\n",
    "Para este caso vamos a usar los datos de felicidad en el mundo. Que de nuevo un reto procedente de un dataset de Kaggle, en este caso tenemos las clasificaciones de felicidad por país. \n",
    "\n",
    "Las puntuaciones y clasificaciones de felicidad utilizan datos de la Encuesta Mundial de Gallup. Los puntajes se basan en las respuestas a la pregunta principal de evaluación de la vida que se hizo en la encuesta. Esta pregunta, conocida como *la escala de Cantril*, pide a los encuestados que piensen en una escala en la que la mejor vida posible para ellos sea un 10 y la peor vida posible sea un 0 y que califiquen sus propias vidas actuales en esa escala. Los puntos provienen de muestras representativas a nivel nacional para los años 2013-2016 y utilizan las ponderaciones de Gallup para hacer las estimaciones representativas. \n",
    "\n",
    "Las columnas que siguen al puntos de felicidad estiman en qué medida cada uno de los seis factores (producción económica, apoyo social, esperanza de vida, libertad, ausencia de corrupción y generosidad) contribuyen a hacer que las evaluaciones de vida sean más altas en cada país que en *Distopía*, un país hipotético que tiene valores iguales a los promedios nacionales más bajos del mundo para cada uno de los seis factores. No tienen ningún impacto en la puntuación total informada para cada país, pero sí explican por qué algunos países tienen una clasificación más alta que otros.\n",
    "\n",
    "**Preguntas propuestas**\n",
    "\n",
    "*Pregunta 1)* ¿Qué métrica de similitud podemos establecer con la puntuación final **Score** y el producto interior bruto *GDP per capita*?\n",
    "\n",
    "*Pregunta 2)* Vamos a  hacer dos medidas de similitud usaremos para comparar pares de países (por lo que debererán estar en la misma escala, lo que se prefiera 0 a 1, -1 a -1, etc:\n",
    "\n",
    "* Una de similitud entre países por nivel de felicidad\n",
    "* Una de similitud por 4 características, a elegir (pista: si se quiere se puede utilizar una medida de similitud entre la puntuación de felicidad y el GDP para hacer esta selección)\n",
    "\n",
    "*Pregunta 3)* Con tus medidas de similitud, ¿cómo podemos decir que estos tres pares de países se parecen entre si?, ¿tienen relación las dos medidas de similitud anteriormente calculadas para estos pares de países?\n",
    "\n",
    "* Spain - Netherlands\n",
    "* Japan - Venezuela\n",
    "* Germany - Mali\n"
   ]
  },
  {
   "cell_type": "code",
   "execution_count": 54,
   "metadata": {},
   "outputs": [
    {
     "data": {
      "text/html": [
       "<div>\n",
       "<style scoped>\n",
       "    .dataframe tbody tr th:only-of-type {\n",
       "        vertical-align: middle;\n",
       "    }\n",
       "\n",
       "    .dataframe tbody tr th {\n",
       "        vertical-align: top;\n",
       "    }\n",
       "\n",
       "    .dataframe thead th {\n",
       "        text-align: right;\n",
       "    }\n",
       "</style>\n",
       "<table border=\"1\" class=\"dataframe\">\n",
       "  <thead>\n",
       "    <tr style=\"text-align: right;\">\n",
       "      <th></th>\n",
       "      <th>Overall rank</th>\n",
       "      <th>Country or region</th>\n",
       "      <th>Score</th>\n",
       "      <th>GDP per capita</th>\n",
       "      <th>Social support</th>\n",
       "      <th>Healthy life expectancy</th>\n",
       "      <th>Freedom to make life choices</th>\n",
       "      <th>Generosity</th>\n",
       "      <th>Perceptions of corruption</th>\n",
       "    </tr>\n",
       "  </thead>\n",
       "  <tbody>\n",
       "    <tr>\n",
       "      <th>0</th>\n",
       "      <td>1</td>\n",
       "      <td>Finland</td>\n",
       "      <td>7.769</td>\n",
       "      <td>1.340</td>\n",
       "      <td>1.587</td>\n",
       "      <td>0.986</td>\n",
       "      <td>0.596</td>\n",
       "      <td>0.153</td>\n",
       "      <td>0.393</td>\n",
       "    </tr>\n",
       "    <tr>\n",
       "      <th>1</th>\n",
       "      <td>2</td>\n",
       "      <td>Denmark</td>\n",
       "      <td>7.600</td>\n",
       "      <td>1.383</td>\n",
       "      <td>1.573</td>\n",
       "      <td>0.996</td>\n",
       "      <td>0.592</td>\n",
       "      <td>0.252</td>\n",
       "      <td>0.410</td>\n",
       "    </tr>\n",
       "    <tr>\n",
       "      <th>2</th>\n",
       "      <td>3</td>\n",
       "      <td>Norway</td>\n",
       "      <td>7.554</td>\n",
       "      <td>1.488</td>\n",
       "      <td>1.582</td>\n",
       "      <td>1.028</td>\n",
       "      <td>0.603</td>\n",
       "      <td>0.271</td>\n",
       "      <td>0.341</td>\n",
       "    </tr>\n",
       "    <tr>\n",
       "      <th>3</th>\n",
       "      <td>4</td>\n",
       "      <td>Iceland</td>\n",
       "      <td>7.494</td>\n",
       "      <td>1.380</td>\n",
       "      <td>1.624</td>\n",
       "      <td>1.026</td>\n",
       "      <td>0.591</td>\n",
       "      <td>0.354</td>\n",
       "      <td>0.118</td>\n",
       "    </tr>\n",
       "    <tr>\n",
       "      <th>4</th>\n",
       "      <td>5</td>\n",
       "      <td>Netherlands</td>\n",
       "      <td>7.488</td>\n",
       "      <td>1.396</td>\n",
       "      <td>1.522</td>\n",
       "      <td>0.999</td>\n",
       "      <td>0.557</td>\n",
       "      <td>0.322</td>\n",
       "      <td>0.298</td>\n",
       "    </tr>\n",
       "  </tbody>\n",
       "</table>\n",
       "</div>"
      ],
      "text/plain": [
       "   Overall rank Country or region  Score  GDP per capita  Social support  \\\n",
       "0             1           Finland  7.769           1.340           1.587   \n",
       "1             2           Denmark  7.600           1.383           1.573   \n",
       "2             3            Norway  7.554           1.488           1.582   \n",
       "3             4           Iceland  7.494           1.380           1.624   \n",
       "4             5       Netherlands  7.488           1.396           1.522   \n",
       "\n",
       "   Healthy life expectancy  Freedom to make life choices  Generosity  \\\n",
       "0                    0.986                         0.596       0.153   \n",
       "1                    0.996                         0.592       0.252   \n",
       "2                    1.028                         0.603       0.271   \n",
       "3                    1.026                         0.591       0.354   \n",
       "4                    0.999                         0.557       0.322   \n",
       "\n",
       "   Perceptions of corruption  \n",
       "0                      0.393  \n",
       "1                      0.410  \n",
       "2                      0.341  \n",
       "3                      0.118  \n",
       "4                      0.298  "
      ]
     },
     "execution_count": 54,
     "metadata": {},
     "output_type": "execute_result"
    }
   ],
   "source": [
    "df_hapiness = pd.read_csv('https://raw.githubusercontent.com/davidreyblanco/ml-training/master/data/happiness_2019.csv')\n",
    "df_hapiness.head()"
   ]
  }
 ],
 "metadata": {
  "kernelspec": {
   "display_name": "Python 3",
   "language": "python",
   "name": "python3"
  },
  "language_info": {
   "codemirror_mode": {
    "name": "ipython",
    "version": 3
   },
   "file_extension": ".py",
   "mimetype": "text/x-python",
   "name": "python",
   "nbconvert_exporter": "python",
   "pygments_lexer": "ipython3",
   "version": "3.6.6"
  },
  "varInspector": {
   "cols": {
    "lenName": 16,
    "lenType": 16,
    "lenVar": 40
   },
   "kernels_config": {
    "python": {
     "delete_cmd_postfix": "",
     "delete_cmd_prefix": "del ",
     "library": "var_list.py",
     "varRefreshCmd": "print(var_dic_list())"
    },
    "r": {
     "delete_cmd_postfix": ") ",
     "delete_cmd_prefix": "rm(",
     "library": "var_list.r",
     "varRefreshCmd": "cat(var_dic_list()) "
    }
   },
   "types_to_exclude": [
    "module",
    "function",
    "builtin_function_or_method",
    "instance",
    "_Feature"
   ],
   "window_display": false
  }
 },
 "nbformat": 4,
 "nbformat_minor": 2
}
